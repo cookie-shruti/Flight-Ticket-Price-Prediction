{
  "cells": [
    {
      "cell_type": "markdown",
      "source": [
        "# **Data Overview**\n",
        "\n",
        "Here each data point corresponds to trip of flight from one city to another.\n",
        "\n",
        "Airline: The name of the airline.\n",
        "\n",
        "Date_of_Journey: The date of the journey\n",
        "\n",
        "Source: The source from which the service begins.\n",
        "\n",
        "Destination: The destination where the service ends.\n",
        "\n",
        "Route: The route taken by the flight to reach the destination.\n",
        "\n",
        "Dep_Time: The time when the journey starts from the source.\n",
        "\n",
        "Arrival_Time: Time of arrival at the destination.\n",
        "\n",
        "Duration: Total duration of the flight.\n",
        "\n",
        "Total_Stops: Total stops between the source and destination.\n",
        "\n",
        "Additional_Info: Additional information about the flight\n",
        "\n",
        "Price(target): The price of the ticket"
      ],
      "metadata": {
        "id": "Pg9R7ldR_F4P"
      },
      "id": "Pg9R7ldR_F4P"
    },
    {
      "cell_type": "markdown",
      "id": "04af9e1c",
      "metadata": {
        "id": "04af9e1c"
      },
      "source": [
        "# Study Questions for Descriptive Analytics\n",
        "\n",
        "How do the ticket prices vary between Economy and Business class?\n",
        "\n",
        "How do the ticket prices vary between Airlines?\n",
        "\n",
        "Does the flight duration effect ticket prices?\n",
        "\n",
        "Does the number of stops effect ticket prices?\n",
        "\n",
        "Do the days left to departure effect ticket prices?\n",
        "\n",
        "Do the departure time and the arrival time effect ticket prices?\n",
        "\n",
        "Do the Source City and Destination City effect ticket prices?\n",
        "\n",
        "Which features effect the ticket prices mostly?"
      ]
    },
    {
      "cell_type": "code",
      "source": [],
      "metadata": {
        "id": "tow-51XV--_R"
      },
      "id": "tow-51XV--_R",
      "execution_count": null,
      "outputs": []
    },
    {
      "cell_type": "code",
      "execution_count": null,
      "id": "e1bdd7cf",
      "metadata": {
        "id": "e1bdd7cf"
      },
      "outputs": [],
      "source": [
        "import pandas as pd\n",
        "import numpy as np\n",
        "import seaborn as sns\n",
        "import scipy as sp\n",
        "import matplotlib.pyplot as plt\n",
        "from xgboost import XGBRegressor\n",
        "import scipy.stats as stats\n",
        "%matplotlib inline\n",
        "import warnings\n",
        "from sklearn import metrics\n",
        "import sklearn.datasets"
      ]
    },
    {
      "cell_type": "code",
      "execution_count": null,
      "id": "138ce956",
      "metadata": {
        "colab": {
          "base_uri": "https://localhost:8080/",
          "height": 357
        },
        "id": "138ce956",
        "outputId": "c36f46ad-0494-4a5b-d71a-e36f538a066f"
      },
      "outputs": [
        {
          "output_type": "execute_result",
          "data": {
            "text/plain": [
              "   Unnamed: 0   airline   flight source_city departure_time stops  \\\n",
              "0           0  SpiceJet  SG-8709       Delhi        Evening  zero   \n",
              "1           1  SpiceJet  SG-8157       Delhi  Early_Morning  zero   \n",
              "2           2   AirAsia   I5-764       Delhi  Early_Morning  zero   \n",
              "3           3   Vistara   UK-995       Delhi        Morning  zero   \n",
              "4           4   Vistara   UK-963       Delhi        Morning  zero   \n",
              "\n",
              "    arrival_time destination_city    class  duration  days_left  price  \n",
              "0          Night           Mumbai  Economy      2.17          1   5953  \n",
              "1        Morning           Mumbai  Economy      2.33          1   5953  \n",
              "2  Early_Morning           Mumbai  Economy      2.17          1   5956  \n",
              "3      Afternoon           Mumbai  Economy      2.25          1   5955  \n",
              "4        Morning           Mumbai  Economy      2.33          1   5955  "
            ],
            "text/html": [
              "\n",
              "  <div id=\"df-88481bbf-3a69-4667-9c15-2c4f957a7c73\">\n",
              "    <div class=\"colab-df-container\">\n",
              "      <div>\n",
              "<style scoped>\n",
              "    .dataframe tbody tr th:only-of-type {\n",
              "        vertical-align: middle;\n",
              "    }\n",
              "\n",
              "    .dataframe tbody tr th {\n",
              "        vertical-align: top;\n",
              "    }\n",
              "\n",
              "    .dataframe thead th {\n",
              "        text-align: right;\n",
              "    }\n",
              "</style>\n",
              "<table border=\"1\" class=\"dataframe\">\n",
              "  <thead>\n",
              "    <tr style=\"text-align: right;\">\n",
              "      <th></th>\n",
              "      <th>Unnamed: 0</th>\n",
              "      <th>airline</th>\n",
              "      <th>flight</th>\n",
              "      <th>source_city</th>\n",
              "      <th>departure_time</th>\n",
              "      <th>stops</th>\n",
              "      <th>arrival_time</th>\n",
              "      <th>destination_city</th>\n",
              "      <th>class</th>\n",
              "      <th>duration</th>\n",
              "      <th>days_left</th>\n",
              "      <th>price</th>\n",
              "    </tr>\n",
              "  </thead>\n",
              "  <tbody>\n",
              "    <tr>\n",
              "      <th>0</th>\n",
              "      <td>0</td>\n",
              "      <td>SpiceJet</td>\n",
              "      <td>SG-8709</td>\n",
              "      <td>Delhi</td>\n",
              "      <td>Evening</td>\n",
              "      <td>zero</td>\n",
              "      <td>Night</td>\n",
              "      <td>Mumbai</td>\n",
              "      <td>Economy</td>\n",
              "      <td>2.17</td>\n",
              "      <td>1</td>\n",
              "      <td>5953</td>\n",
              "    </tr>\n",
              "    <tr>\n",
              "      <th>1</th>\n",
              "      <td>1</td>\n",
              "      <td>SpiceJet</td>\n",
              "      <td>SG-8157</td>\n",
              "      <td>Delhi</td>\n",
              "      <td>Early_Morning</td>\n",
              "      <td>zero</td>\n",
              "      <td>Morning</td>\n",
              "      <td>Mumbai</td>\n",
              "      <td>Economy</td>\n",
              "      <td>2.33</td>\n",
              "      <td>1</td>\n",
              "      <td>5953</td>\n",
              "    </tr>\n",
              "    <tr>\n",
              "      <th>2</th>\n",
              "      <td>2</td>\n",
              "      <td>AirAsia</td>\n",
              "      <td>I5-764</td>\n",
              "      <td>Delhi</td>\n",
              "      <td>Early_Morning</td>\n",
              "      <td>zero</td>\n",
              "      <td>Early_Morning</td>\n",
              "      <td>Mumbai</td>\n",
              "      <td>Economy</td>\n",
              "      <td>2.17</td>\n",
              "      <td>1</td>\n",
              "      <td>5956</td>\n",
              "    </tr>\n",
              "    <tr>\n",
              "      <th>3</th>\n",
              "      <td>3</td>\n",
              "      <td>Vistara</td>\n",
              "      <td>UK-995</td>\n",
              "      <td>Delhi</td>\n",
              "      <td>Morning</td>\n",
              "      <td>zero</td>\n",
              "      <td>Afternoon</td>\n",
              "      <td>Mumbai</td>\n",
              "      <td>Economy</td>\n",
              "      <td>2.25</td>\n",
              "      <td>1</td>\n",
              "      <td>5955</td>\n",
              "    </tr>\n",
              "    <tr>\n",
              "      <th>4</th>\n",
              "      <td>4</td>\n",
              "      <td>Vistara</td>\n",
              "      <td>UK-963</td>\n",
              "      <td>Delhi</td>\n",
              "      <td>Morning</td>\n",
              "      <td>zero</td>\n",
              "      <td>Morning</td>\n",
              "      <td>Mumbai</td>\n",
              "      <td>Economy</td>\n",
              "      <td>2.33</td>\n",
              "      <td>1</td>\n",
              "      <td>5955</td>\n",
              "    </tr>\n",
              "  </tbody>\n",
              "</table>\n",
              "</div>\n",
              "      <button class=\"colab-df-convert\" onclick=\"convertToInteractive('df-88481bbf-3a69-4667-9c15-2c4f957a7c73')\"\n",
              "              title=\"Convert this dataframe to an interactive table.\"\n",
              "              style=\"display:none;\">\n",
              "        \n",
              "  <svg xmlns=\"http://www.w3.org/2000/svg\" height=\"24px\"viewBox=\"0 0 24 24\"\n",
              "       width=\"24px\">\n",
              "    <path d=\"M0 0h24v24H0V0z\" fill=\"none\"/>\n",
              "    <path d=\"M18.56 5.44l.94 2.06.94-2.06 2.06-.94-2.06-.94-.94-2.06-.94 2.06-2.06.94zm-11 1L8.5 8.5l.94-2.06 2.06-.94-2.06-.94L8.5 2.5l-.94 2.06-2.06.94zm10 10l.94 2.06.94-2.06 2.06-.94-2.06-.94-.94-2.06-.94 2.06-2.06.94z\"/><path d=\"M17.41 7.96l-1.37-1.37c-.4-.4-.92-.59-1.43-.59-.52 0-1.04.2-1.43.59L10.3 9.45l-7.72 7.72c-.78.78-.78 2.05 0 2.83L4 21.41c.39.39.9.59 1.41.59.51 0 1.02-.2 1.41-.59l7.78-7.78 2.81-2.81c.8-.78.8-2.07 0-2.86zM5.41 20L4 18.59l7.72-7.72 1.47 1.35L5.41 20z\"/>\n",
              "  </svg>\n",
              "      </button>\n",
              "      \n",
              "  <style>\n",
              "    .colab-df-container {\n",
              "      display:flex;\n",
              "      flex-wrap:wrap;\n",
              "      gap: 12px;\n",
              "    }\n",
              "\n",
              "    .colab-df-convert {\n",
              "      background-color: #E8F0FE;\n",
              "      border: none;\n",
              "      border-radius: 50%;\n",
              "      cursor: pointer;\n",
              "      display: none;\n",
              "      fill: #1967D2;\n",
              "      height: 32px;\n",
              "      padding: 0 0 0 0;\n",
              "      width: 32px;\n",
              "    }\n",
              "\n",
              "    .colab-df-convert:hover {\n",
              "      background-color: #E2EBFA;\n",
              "      box-shadow: 0px 1px 2px rgba(60, 64, 67, 0.3), 0px 1px 3px 1px rgba(60, 64, 67, 0.15);\n",
              "      fill: #174EA6;\n",
              "    }\n",
              "\n",
              "    [theme=dark] .colab-df-convert {\n",
              "      background-color: #3B4455;\n",
              "      fill: #D2E3FC;\n",
              "    }\n",
              "\n",
              "    [theme=dark] .colab-df-convert:hover {\n",
              "      background-color: #434B5C;\n",
              "      box-shadow: 0px 1px 3px 1px rgba(0, 0, 0, 0.15);\n",
              "      filter: drop-shadow(0px 1px 2px rgba(0, 0, 0, 0.3));\n",
              "      fill: #FFFFFF;\n",
              "    }\n",
              "  </style>\n",
              "\n",
              "      <script>\n",
              "        const buttonEl =\n",
              "          document.querySelector('#df-88481bbf-3a69-4667-9c15-2c4f957a7c73 button.colab-df-convert');\n",
              "        buttonEl.style.display =\n",
              "          google.colab.kernel.accessAllowed ? 'block' : 'none';\n",
              "\n",
              "        async function convertToInteractive(key) {\n",
              "          const element = document.querySelector('#df-88481bbf-3a69-4667-9c15-2c4f957a7c73');\n",
              "          const dataTable =\n",
              "            await google.colab.kernel.invokeFunction('convertToInteractive',\n",
              "                                                     [key], {});\n",
              "          if (!dataTable) return;\n",
              "\n",
              "          const docLinkHtml = 'Like what you see? Visit the ' +\n",
              "            '<a target=\"_blank\" href=https://colab.research.google.com/notebooks/data_table.ipynb>data table notebook</a>'\n",
              "            + ' to learn more about interactive tables.';\n",
              "          element.innerHTML = '';\n",
              "          dataTable['output_type'] = 'display_data';\n",
              "          await google.colab.output.renderOutput(dataTable, element);\n",
              "          const docLink = document.createElement('div');\n",
              "          docLink.innerHTML = docLinkHtml;\n",
              "          element.appendChild(docLink);\n",
              "        }\n",
              "      </script>\n",
              "    </div>\n",
              "  </div>\n",
              "  "
            ]
          },
          "metadata": {},
          "execution_count": 30
        }
      ],
      "source": [
        "df=pd.read_csv(r'/content/Clean_Dataset.csv')\n",
        "df.head()"
      ]
    },
    {
      "cell_type": "markdown",
      "id": "7ab92acf",
      "metadata": {
        "id": "7ab92acf"
      },
      "source": [
        "Here we remove this unnamed coloumn to make the dataset clean"
      ]
    },
    {
      "cell_type": "code",
      "execution_count": null,
      "id": "4ae55e28",
      "metadata": {
        "id": "4ae55e28",
        "outputId": "38002bc2-5c39-4f0e-8eb6-d7e85df16d4b",
        "colab": {
          "base_uri": "https://localhost:8080/",
          "height": 339
        }
      },
      "outputs": [
        {
          "output_type": "execute_result",
          "data": {
            "text/plain": [
              "    airline   flight source_city departure_time stops   arrival_time  \\\n",
              "0  SpiceJet  SG-8709       Delhi        Evening  zero          Night   \n",
              "1  SpiceJet  SG-8157       Delhi  Early_Morning  zero        Morning   \n",
              "2   AirAsia   I5-764       Delhi  Early_Morning  zero  Early_Morning   \n",
              "3   Vistara   UK-995       Delhi        Morning  zero      Afternoon   \n",
              "4   Vistara   UK-963       Delhi        Morning  zero        Morning   \n",
              "\n",
              "  destination_city    class  duration  days_left  price  \n",
              "0           Mumbai  Economy      2.17          1   5953  \n",
              "1           Mumbai  Economy      2.33          1   5953  \n",
              "2           Mumbai  Economy      2.17          1   5956  \n",
              "3           Mumbai  Economy      2.25          1   5955  \n",
              "4           Mumbai  Economy      2.33          1   5955  "
            ],
            "text/html": [
              "\n",
              "  <div id=\"df-b24f9ea9-0603-4cf5-8928-e795deee4054\">\n",
              "    <div class=\"colab-df-container\">\n",
              "      <div>\n",
              "<style scoped>\n",
              "    .dataframe tbody tr th:only-of-type {\n",
              "        vertical-align: middle;\n",
              "    }\n",
              "\n",
              "    .dataframe tbody tr th {\n",
              "        vertical-align: top;\n",
              "    }\n",
              "\n",
              "    .dataframe thead th {\n",
              "        text-align: right;\n",
              "    }\n",
              "</style>\n",
              "<table border=\"1\" class=\"dataframe\">\n",
              "  <thead>\n",
              "    <tr style=\"text-align: right;\">\n",
              "      <th></th>\n",
              "      <th>airline</th>\n",
              "      <th>flight</th>\n",
              "      <th>source_city</th>\n",
              "      <th>departure_time</th>\n",
              "      <th>stops</th>\n",
              "      <th>arrival_time</th>\n",
              "      <th>destination_city</th>\n",
              "      <th>class</th>\n",
              "      <th>duration</th>\n",
              "      <th>days_left</th>\n",
              "      <th>price</th>\n",
              "    </tr>\n",
              "  </thead>\n",
              "  <tbody>\n",
              "    <tr>\n",
              "      <th>0</th>\n",
              "      <td>SpiceJet</td>\n",
              "      <td>SG-8709</td>\n",
              "      <td>Delhi</td>\n",
              "      <td>Evening</td>\n",
              "      <td>zero</td>\n",
              "      <td>Night</td>\n",
              "      <td>Mumbai</td>\n",
              "      <td>Economy</td>\n",
              "      <td>2.17</td>\n",
              "      <td>1</td>\n",
              "      <td>5953</td>\n",
              "    </tr>\n",
              "    <tr>\n",
              "      <th>1</th>\n",
              "      <td>SpiceJet</td>\n",
              "      <td>SG-8157</td>\n",
              "      <td>Delhi</td>\n",
              "      <td>Early_Morning</td>\n",
              "      <td>zero</td>\n",
              "      <td>Morning</td>\n",
              "      <td>Mumbai</td>\n",
              "      <td>Economy</td>\n",
              "      <td>2.33</td>\n",
              "      <td>1</td>\n",
              "      <td>5953</td>\n",
              "    </tr>\n",
              "    <tr>\n",
              "      <th>2</th>\n",
              "      <td>AirAsia</td>\n",
              "      <td>I5-764</td>\n",
              "      <td>Delhi</td>\n",
              "      <td>Early_Morning</td>\n",
              "      <td>zero</td>\n",
              "      <td>Early_Morning</td>\n",
              "      <td>Mumbai</td>\n",
              "      <td>Economy</td>\n",
              "      <td>2.17</td>\n",
              "      <td>1</td>\n",
              "      <td>5956</td>\n",
              "    </tr>\n",
              "    <tr>\n",
              "      <th>3</th>\n",
              "      <td>Vistara</td>\n",
              "      <td>UK-995</td>\n",
              "      <td>Delhi</td>\n",
              "      <td>Morning</td>\n",
              "      <td>zero</td>\n",
              "      <td>Afternoon</td>\n",
              "      <td>Mumbai</td>\n",
              "      <td>Economy</td>\n",
              "      <td>2.25</td>\n",
              "      <td>1</td>\n",
              "      <td>5955</td>\n",
              "    </tr>\n",
              "    <tr>\n",
              "      <th>4</th>\n",
              "      <td>Vistara</td>\n",
              "      <td>UK-963</td>\n",
              "      <td>Delhi</td>\n",
              "      <td>Morning</td>\n",
              "      <td>zero</td>\n",
              "      <td>Morning</td>\n",
              "      <td>Mumbai</td>\n",
              "      <td>Economy</td>\n",
              "      <td>2.33</td>\n",
              "      <td>1</td>\n",
              "      <td>5955</td>\n",
              "    </tr>\n",
              "  </tbody>\n",
              "</table>\n",
              "</div>\n",
              "      <button class=\"colab-df-convert\" onclick=\"convertToInteractive('df-b24f9ea9-0603-4cf5-8928-e795deee4054')\"\n",
              "              title=\"Convert this dataframe to an interactive table.\"\n",
              "              style=\"display:none;\">\n",
              "        \n",
              "  <svg xmlns=\"http://www.w3.org/2000/svg\" height=\"24px\"viewBox=\"0 0 24 24\"\n",
              "       width=\"24px\">\n",
              "    <path d=\"M0 0h24v24H0V0z\" fill=\"none\"/>\n",
              "    <path d=\"M18.56 5.44l.94 2.06.94-2.06 2.06-.94-2.06-.94-.94-2.06-.94 2.06-2.06.94zm-11 1L8.5 8.5l.94-2.06 2.06-.94-2.06-.94L8.5 2.5l-.94 2.06-2.06.94zm10 10l.94 2.06.94-2.06 2.06-.94-2.06-.94-.94-2.06-.94 2.06-2.06.94z\"/><path d=\"M17.41 7.96l-1.37-1.37c-.4-.4-.92-.59-1.43-.59-.52 0-1.04.2-1.43.59L10.3 9.45l-7.72 7.72c-.78.78-.78 2.05 0 2.83L4 21.41c.39.39.9.59 1.41.59.51 0 1.02-.2 1.41-.59l7.78-7.78 2.81-2.81c.8-.78.8-2.07 0-2.86zM5.41 20L4 18.59l7.72-7.72 1.47 1.35L5.41 20z\"/>\n",
              "  </svg>\n",
              "      </button>\n",
              "      \n",
              "  <style>\n",
              "    .colab-df-container {\n",
              "      display:flex;\n",
              "      flex-wrap:wrap;\n",
              "      gap: 12px;\n",
              "    }\n",
              "\n",
              "    .colab-df-convert {\n",
              "      background-color: #E8F0FE;\n",
              "      border: none;\n",
              "      border-radius: 50%;\n",
              "      cursor: pointer;\n",
              "      display: none;\n",
              "      fill: #1967D2;\n",
              "      height: 32px;\n",
              "      padding: 0 0 0 0;\n",
              "      width: 32px;\n",
              "    }\n",
              "\n",
              "    .colab-df-convert:hover {\n",
              "      background-color: #E2EBFA;\n",
              "      box-shadow: 0px 1px 2px rgba(60, 64, 67, 0.3), 0px 1px 3px 1px rgba(60, 64, 67, 0.15);\n",
              "      fill: #174EA6;\n",
              "    }\n",
              "\n",
              "    [theme=dark] .colab-df-convert {\n",
              "      background-color: #3B4455;\n",
              "      fill: #D2E3FC;\n",
              "    }\n",
              "\n",
              "    [theme=dark] .colab-df-convert:hover {\n",
              "      background-color: #434B5C;\n",
              "      box-shadow: 0px 1px 3px 1px rgba(0, 0, 0, 0.15);\n",
              "      filter: drop-shadow(0px 1px 2px rgba(0, 0, 0, 0.3));\n",
              "      fill: #FFFFFF;\n",
              "    }\n",
              "  </style>\n",
              "\n",
              "      <script>\n",
              "        const buttonEl =\n",
              "          document.querySelector('#df-b24f9ea9-0603-4cf5-8928-e795deee4054 button.colab-df-convert');\n",
              "        buttonEl.style.display =\n",
              "          google.colab.kernel.accessAllowed ? 'block' : 'none';\n",
              "\n",
              "        async function convertToInteractive(key) {\n",
              "          const element = document.querySelector('#df-b24f9ea9-0603-4cf5-8928-e795deee4054');\n",
              "          const dataTable =\n",
              "            await google.colab.kernel.invokeFunction('convertToInteractive',\n",
              "                                                     [key], {});\n",
              "          if (!dataTable) return;\n",
              "\n",
              "          const docLinkHtml = 'Like what you see? Visit the ' +\n",
              "            '<a target=\"_blank\" href=https://colab.research.google.com/notebooks/data_table.ipynb>data table notebook</a>'\n",
              "            + ' to learn more about interactive tables.';\n",
              "          element.innerHTML = '';\n",
              "          dataTable['output_type'] = 'display_data';\n",
              "          await google.colab.output.renderOutput(dataTable, element);\n",
              "          const docLink = document.createElement('div');\n",
              "          docLink.innerHTML = docLinkHtml;\n",
              "          element.appendChild(docLink);\n",
              "        }\n",
              "      </script>\n",
              "    </div>\n",
              "  </div>\n",
              "  "
            ]
          },
          "metadata": {},
          "execution_count": 31
        }
      ],
      "source": [
        "df = df.drop('Unnamed: 0',axis=1)\n",
        "df.head()"
      ]
    },
    {
      "cell_type": "code",
      "execution_count": null,
      "id": "39ca1b0c",
      "metadata": {
        "id": "39ca1b0c",
        "outputId": "2517a7f5-4dab-420e-d3b4-980f98dd3b73",
        "colab": {
          "base_uri": "https://localhost:8080/"
        }
      },
      "outputs": [
        {
          "output_type": "execute_result",
          "data": {
            "text/plain": [
              "(300153, 11)"
            ]
          },
          "metadata": {},
          "execution_count": 32
        }
      ],
      "source": [
        "df.shape"
      ]
    },
    {
      "cell_type": "code",
      "execution_count": null,
      "id": "ba6f697a",
      "metadata": {
        "id": "ba6f697a",
        "outputId": "d787dd61-57fd-4547-ba62-6bd52f674ec6",
        "colab": {
          "base_uri": "https://localhost:8080/"
        }
      },
      "outputs": [
        {
          "output_type": "execute_result",
          "data": {
            "text/plain": [
              "3301683"
            ]
          },
          "metadata": {},
          "execution_count": 33
        }
      ],
      "source": [
        "df.size"
      ]
    },
    {
      "cell_type": "code",
      "execution_count": null,
      "id": "0c837e6a",
      "metadata": {
        "id": "0c837e6a",
        "outputId": "77f6dbbd-610f-47d2-a906-ee519013f9a3",
        "colab": {
          "base_uri": "https://localhost:8080/"
        }
      },
      "outputs": [
        {
          "output_type": "execute_result",
          "data": {
            "text/plain": [
              "airline             0\n",
              "flight              0\n",
              "source_city         0\n",
              "departure_time      0\n",
              "stops               0\n",
              "arrival_time        0\n",
              "destination_city    0\n",
              "class               0\n",
              "duration            0\n",
              "days_left           0\n",
              "price               0\n",
              "dtype: int64"
            ]
          },
          "metadata": {},
          "execution_count": 34
        }
      ],
      "source": [
        "df.isna().sum()"
      ]
    },
    {
      "cell_type": "code",
      "execution_count": null,
      "id": "8f4069d5",
      "metadata": {
        "id": "8f4069d5",
        "outputId": "bbfbd64e-b26e-4ec6-f3e2-70dc38da8af2",
        "colab": {
          "base_uri": "https://localhost:8080/",
          "height": 206
        }
      },
      "outputs": [
        {
          "output_type": "execute_result",
          "data": {
            "text/plain": [
              "   duration  days_left  price\n",
              "0      2.17          1   5953\n",
              "1      2.33          1   5953\n",
              "2      2.17          1   5956\n",
              "3      2.25          1   5955\n",
              "4      2.33          1   5955"
            ],
            "text/html": [
              "\n",
              "  <div id=\"df-7e4e8572-93ee-4aaf-ba7c-28bcaebe9de0\">\n",
              "    <div class=\"colab-df-container\">\n",
              "      <div>\n",
              "<style scoped>\n",
              "    .dataframe tbody tr th:only-of-type {\n",
              "        vertical-align: middle;\n",
              "    }\n",
              "\n",
              "    .dataframe tbody tr th {\n",
              "        vertical-align: top;\n",
              "    }\n",
              "\n",
              "    .dataframe thead th {\n",
              "        text-align: right;\n",
              "    }\n",
              "</style>\n",
              "<table border=\"1\" class=\"dataframe\">\n",
              "  <thead>\n",
              "    <tr style=\"text-align: right;\">\n",
              "      <th></th>\n",
              "      <th>duration</th>\n",
              "      <th>days_left</th>\n",
              "      <th>price</th>\n",
              "    </tr>\n",
              "  </thead>\n",
              "  <tbody>\n",
              "    <tr>\n",
              "      <th>0</th>\n",
              "      <td>2.17</td>\n",
              "      <td>1</td>\n",
              "      <td>5953</td>\n",
              "    </tr>\n",
              "    <tr>\n",
              "      <th>1</th>\n",
              "      <td>2.33</td>\n",
              "      <td>1</td>\n",
              "      <td>5953</td>\n",
              "    </tr>\n",
              "    <tr>\n",
              "      <th>2</th>\n",
              "      <td>2.17</td>\n",
              "      <td>1</td>\n",
              "      <td>5956</td>\n",
              "    </tr>\n",
              "    <tr>\n",
              "      <th>3</th>\n",
              "      <td>2.25</td>\n",
              "      <td>1</td>\n",
              "      <td>5955</td>\n",
              "    </tr>\n",
              "    <tr>\n",
              "      <th>4</th>\n",
              "      <td>2.33</td>\n",
              "      <td>1</td>\n",
              "      <td>5955</td>\n",
              "    </tr>\n",
              "  </tbody>\n",
              "</table>\n",
              "</div>\n",
              "      <button class=\"colab-df-convert\" onclick=\"convertToInteractive('df-7e4e8572-93ee-4aaf-ba7c-28bcaebe9de0')\"\n",
              "              title=\"Convert this dataframe to an interactive table.\"\n",
              "              style=\"display:none;\">\n",
              "        \n",
              "  <svg xmlns=\"http://www.w3.org/2000/svg\" height=\"24px\"viewBox=\"0 0 24 24\"\n",
              "       width=\"24px\">\n",
              "    <path d=\"M0 0h24v24H0V0z\" fill=\"none\"/>\n",
              "    <path d=\"M18.56 5.44l.94 2.06.94-2.06 2.06-.94-2.06-.94-.94-2.06-.94 2.06-2.06.94zm-11 1L8.5 8.5l.94-2.06 2.06-.94-2.06-.94L8.5 2.5l-.94 2.06-2.06.94zm10 10l.94 2.06.94-2.06 2.06-.94-2.06-.94-.94-2.06-.94 2.06-2.06.94z\"/><path d=\"M17.41 7.96l-1.37-1.37c-.4-.4-.92-.59-1.43-.59-.52 0-1.04.2-1.43.59L10.3 9.45l-7.72 7.72c-.78.78-.78 2.05 0 2.83L4 21.41c.39.39.9.59 1.41.59.51 0 1.02-.2 1.41-.59l7.78-7.78 2.81-2.81c.8-.78.8-2.07 0-2.86zM5.41 20L4 18.59l7.72-7.72 1.47 1.35L5.41 20z\"/>\n",
              "  </svg>\n",
              "      </button>\n",
              "      \n",
              "  <style>\n",
              "    .colab-df-container {\n",
              "      display:flex;\n",
              "      flex-wrap:wrap;\n",
              "      gap: 12px;\n",
              "    }\n",
              "\n",
              "    .colab-df-convert {\n",
              "      background-color: #E8F0FE;\n",
              "      border: none;\n",
              "      border-radius: 50%;\n",
              "      cursor: pointer;\n",
              "      display: none;\n",
              "      fill: #1967D2;\n",
              "      height: 32px;\n",
              "      padding: 0 0 0 0;\n",
              "      width: 32px;\n",
              "    }\n",
              "\n",
              "    .colab-df-convert:hover {\n",
              "      background-color: #E2EBFA;\n",
              "      box-shadow: 0px 1px 2px rgba(60, 64, 67, 0.3), 0px 1px 3px 1px rgba(60, 64, 67, 0.15);\n",
              "      fill: #174EA6;\n",
              "    }\n",
              "\n",
              "    [theme=dark] .colab-df-convert {\n",
              "      background-color: #3B4455;\n",
              "      fill: #D2E3FC;\n",
              "    }\n",
              "\n",
              "    [theme=dark] .colab-df-convert:hover {\n",
              "      background-color: #434B5C;\n",
              "      box-shadow: 0px 1px 3px 1px rgba(0, 0, 0, 0.15);\n",
              "      filter: drop-shadow(0px 1px 2px rgba(0, 0, 0, 0.3));\n",
              "      fill: #FFFFFF;\n",
              "    }\n",
              "  </style>\n",
              "\n",
              "      <script>\n",
              "        const buttonEl =\n",
              "          document.querySelector('#df-7e4e8572-93ee-4aaf-ba7c-28bcaebe9de0 button.colab-df-convert');\n",
              "        buttonEl.style.display =\n",
              "          google.colab.kernel.accessAllowed ? 'block' : 'none';\n",
              "\n",
              "        async function convertToInteractive(key) {\n",
              "          const element = document.querySelector('#df-7e4e8572-93ee-4aaf-ba7c-28bcaebe9de0');\n",
              "          const dataTable =\n",
              "            await google.colab.kernel.invokeFunction('convertToInteractive',\n",
              "                                                     [key], {});\n",
              "          if (!dataTable) return;\n",
              "\n",
              "          const docLinkHtml = 'Like what you see? Visit the ' +\n",
              "            '<a target=\"_blank\" href=https://colab.research.google.com/notebooks/data_table.ipynb>data table notebook</a>'\n",
              "            + ' to learn more about interactive tables.';\n",
              "          element.innerHTML = '';\n",
              "          dataTable['output_type'] = 'display_data';\n",
              "          await google.colab.output.renderOutput(dataTable, element);\n",
              "          const docLink = document.createElement('div');\n",
              "          docLink.innerHTML = docLinkHtml;\n",
              "          element.appendChild(docLink);\n",
              "        }\n",
              "      </script>\n",
              "    </div>\n",
              "  </div>\n",
              "  "
            ]
          },
          "metadata": {},
          "execution_count": 35
        }
      ],
      "source": [
        "numerical_features = [n for n in df.columns if df[n].dtype!='O']\n",
        "df[numerical_features].head()"
      ]
    },
    {
      "cell_type": "markdown",
      "id": "04e7081d",
      "metadata": {
        "id": "04e7081d"
      },
      "source": [
        "This column tells numerical data columns"
      ]
    },
    {
      "cell_type": "code",
      "execution_count": null,
      "id": "c97ebe58",
      "metadata": {
        "id": "c97ebe58",
        "outputId": "901cbcb1-27cc-43f4-8964-fcda9f6f8304",
        "colab": {
          "base_uri": "https://localhost:8080/",
          "height": 206
        }
      },
      "outputs": [
        {
          "output_type": "execute_result",
          "data": {
            "text/plain": [
              "    airline   flight source_city departure_time stops   arrival_time  \\\n",
              "0  SpiceJet  SG-8709       Delhi        Evening  zero          Night   \n",
              "1  SpiceJet  SG-8157       Delhi  Early_Morning  zero        Morning   \n",
              "2   AirAsia   I5-764       Delhi  Early_Morning  zero  Early_Morning   \n",
              "3   Vistara   UK-995       Delhi        Morning  zero      Afternoon   \n",
              "4   Vistara   UK-963       Delhi        Morning  zero        Morning   \n",
              "\n",
              "  destination_city    class  \n",
              "0           Mumbai  Economy  \n",
              "1           Mumbai  Economy  \n",
              "2           Mumbai  Economy  \n",
              "3           Mumbai  Economy  \n",
              "4           Mumbai  Economy  "
            ],
            "text/html": [
              "\n",
              "  <div id=\"df-8f2da4b5-93bc-44b3-8fc7-0003b1d930ae\">\n",
              "    <div class=\"colab-df-container\">\n",
              "      <div>\n",
              "<style scoped>\n",
              "    .dataframe tbody tr th:only-of-type {\n",
              "        vertical-align: middle;\n",
              "    }\n",
              "\n",
              "    .dataframe tbody tr th {\n",
              "        vertical-align: top;\n",
              "    }\n",
              "\n",
              "    .dataframe thead th {\n",
              "        text-align: right;\n",
              "    }\n",
              "</style>\n",
              "<table border=\"1\" class=\"dataframe\">\n",
              "  <thead>\n",
              "    <tr style=\"text-align: right;\">\n",
              "      <th></th>\n",
              "      <th>airline</th>\n",
              "      <th>flight</th>\n",
              "      <th>source_city</th>\n",
              "      <th>departure_time</th>\n",
              "      <th>stops</th>\n",
              "      <th>arrival_time</th>\n",
              "      <th>destination_city</th>\n",
              "      <th>class</th>\n",
              "    </tr>\n",
              "  </thead>\n",
              "  <tbody>\n",
              "    <tr>\n",
              "      <th>0</th>\n",
              "      <td>SpiceJet</td>\n",
              "      <td>SG-8709</td>\n",
              "      <td>Delhi</td>\n",
              "      <td>Evening</td>\n",
              "      <td>zero</td>\n",
              "      <td>Night</td>\n",
              "      <td>Mumbai</td>\n",
              "      <td>Economy</td>\n",
              "    </tr>\n",
              "    <tr>\n",
              "      <th>1</th>\n",
              "      <td>SpiceJet</td>\n",
              "      <td>SG-8157</td>\n",
              "      <td>Delhi</td>\n",
              "      <td>Early_Morning</td>\n",
              "      <td>zero</td>\n",
              "      <td>Morning</td>\n",
              "      <td>Mumbai</td>\n",
              "      <td>Economy</td>\n",
              "    </tr>\n",
              "    <tr>\n",
              "      <th>2</th>\n",
              "      <td>AirAsia</td>\n",
              "      <td>I5-764</td>\n",
              "      <td>Delhi</td>\n",
              "      <td>Early_Morning</td>\n",
              "      <td>zero</td>\n",
              "      <td>Early_Morning</td>\n",
              "      <td>Mumbai</td>\n",
              "      <td>Economy</td>\n",
              "    </tr>\n",
              "    <tr>\n",
              "      <th>3</th>\n",
              "      <td>Vistara</td>\n",
              "      <td>UK-995</td>\n",
              "      <td>Delhi</td>\n",
              "      <td>Morning</td>\n",
              "      <td>zero</td>\n",
              "      <td>Afternoon</td>\n",
              "      <td>Mumbai</td>\n",
              "      <td>Economy</td>\n",
              "    </tr>\n",
              "    <tr>\n",
              "      <th>4</th>\n",
              "      <td>Vistara</td>\n",
              "      <td>UK-963</td>\n",
              "      <td>Delhi</td>\n",
              "      <td>Morning</td>\n",
              "      <td>zero</td>\n",
              "      <td>Morning</td>\n",
              "      <td>Mumbai</td>\n",
              "      <td>Economy</td>\n",
              "    </tr>\n",
              "  </tbody>\n",
              "</table>\n",
              "</div>\n",
              "      <button class=\"colab-df-convert\" onclick=\"convertToInteractive('df-8f2da4b5-93bc-44b3-8fc7-0003b1d930ae')\"\n",
              "              title=\"Convert this dataframe to an interactive table.\"\n",
              "              style=\"display:none;\">\n",
              "        \n",
              "  <svg xmlns=\"http://www.w3.org/2000/svg\" height=\"24px\"viewBox=\"0 0 24 24\"\n",
              "       width=\"24px\">\n",
              "    <path d=\"M0 0h24v24H0V0z\" fill=\"none\"/>\n",
              "    <path d=\"M18.56 5.44l.94 2.06.94-2.06 2.06-.94-2.06-.94-.94-2.06-.94 2.06-2.06.94zm-11 1L8.5 8.5l.94-2.06 2.06-.94-2.06-.94L8.5 2.5l-.94 2.06-2.06.94zm10 10l.94 2.06.94-2.06 2.06-.94-2.06-.94-.94-2.06-.94 2.06-2.06.94z\"/><path d=\"M17.41 7.96l-1.37-1.37c-.4-.4-.92-.59-1.43-.59-.52 0-1.04.2-1.43.59L10.3 9.45l-7.72 7.72c-.78.78-.78 2.05 0 2.83L4 21.41c.39.39.9.59 1.41.59.51 0 1.02-.2 1.41-.59l7.78-7.78 2.81-2.81c.8-.78.8-2.07 0-2.86zM5.41 20L4 18.59l7.72-7.72 1.47 1.35L5.41 20z\"/>\n",
              "  </svg>\n",
              "      </button>\n",
              "      \n",
              "  <style>\n",
              "    .colab-df-container {\n",
              "      display:flex;\n",
              "      flex-wrap:wrap;\n",
              "      gap: 12px;\n",
              "    }\n",
              "\n",
              "    .colab-df-convert {\n",
              "      background-color: #E8F0FE;\n",
              "      border: none;\n",
              "      border-radius: 50%;\n",
              "      cursor: pointer;\n",
              "      display: none;\n",
              "      fill: #1967D2;\n",
              "      height: 32px;\n",
              "      padding: 0 0 0 0;\n",
              "      width: 32px;\n",
              "    }\n",
              "\n",
              "    .colab-df-convert:hover {\n",
              "      background-color: #E2EBFA;\n",
              "      box-shadow: 0px 1px 2px rgba(60, 64, 67, 0.3), 0px 1px 3px 1px rgba(60, 64, 67, 0.15);\n",
              "      fill: #174EA6;\n",
              "    }\n",
              "\n",
              "    [theme=dark] .colab-df-convert {\n",
              "      background-color: #3B4455;\n",
              "      fill: #D2E3FC;\n",
              "    }\n",
              "\n",
              "    [theme=dark] .colab-df-convert:hover {\n",
              "      background-color: #434B5C;\n",
              "      box-shadow: 0px 1px 3px 1px rgba(0, 0, 0, 0.15);\n",
              "      filter: drop-shadow(0px 1px 2px rgba(0, 0, 0, 0.3));\n",
              "      fill: #FFFFFF;\n",
              "    }\n",
              "  </style>\n",
              "\n",
              "      <script>\n",
              "        const buttonEl =\n",
              "          document.querySelector('#df-8f2da4b5-93bc-44b3-8fc7-0003b1d930ae button.colab-df-convert');\n",
              "        buttonEl.style.display =\n",
              "          google.colab.kernel.accessAllowed ? 'block' : 'none';\n",
              "\n",
              "        async function convertToInteractive(key) {\n",
              "          const element = document.querySelector('#df-8f2da4b5-93bc-44b3-8fc7-0003b1d930ae');\n",
              "          const dataTable =\n",
              "            await google.colab.kernel.invokeFunction('convertToInteractive',\n",
              "                                                     [key], {});\n",
              "          if (!dataTable) return;\n",
              "\n",
              "          const docLinkHtml = 'Like what you see? Visit the ' +\n",
              "            '<a target=\"_blank\" href=https://colab.research.google.com/notebooks/data_table.ipynb>data table notebook</a>'\n",
              "            + ' to learn more about interactive tables.';\n",
              "          element.innerHTML = '';\n",
              "          dataTable['output_type'] = 'display_data';\n",
              "          await google.colab.output.renderOutput(dataTable, element);\n",
              "          const docLink = document.createElement('div');\n",
              "          docLink.innerHTML = docLinkHtml;\n",
              "          element.appendChild(docLink);\n",
              "        }\n",
              "      </script>\n",
              "    </div>\n",
              "  </div>\n",
              "  "
            ]
          },
          "metadata": {},
          "execution_count": 36
        }
      ],
      "source": [
        "categorical_features = [c for c in df.columns if df[c].dtype=='O']\n",
        "df[categorical_features].head()"
      ]
    },
    {
      "cell_type": "markdown",
      "id": "8181c5fb",
      "metadata": {
        "id": "8181c5fb"
      },
      "source": [
        "This data tells categorical data"
      ]
    },
    {
      "cell_type": "markdown",
      "id": "13e644f5",
      "metadata": {
        "id": "13e644f5"
      },
      "source": [
        "### Statistical Description of Data"
      ]
    },
    {
      "cell_type": "code",
      "execution_count": null,
      "id": "0156766d",
      "metadata": {
        "id": "0156766d",
        "outputId": "d9a4c066-7966-4281-e5f0-84cfd89cecf0",
        "colab": {
          "base_uri": "https://localhost:8080/",
          "height": 300
        }
      },
      "outputs": [
        {
          "output_type": "execute_result",
          "data": {
            "text/plain": [
              "            duration      days_left          price\n",
              "count  300153.000000  300153.000000  300153.000000\n",
              "mean       12.221021      26.004751   20889.660523\n",
              "std         7.191997      13.561004   22697.767366\n",
              "min         0.830000       1.000000    1105.000000\n",
              "25%         6.830000      15.000000    4783.000000\n",
              "50%        11.250000      26.000000    7425.000000\n",
              "75%        16.170000      38.000000   42521.000000\n",
              "max        49.830000      49.000000  123071.000000"
            ],
            "text/html": [
              "\n",
              "  <div id=\"df-97a32872-c884-4229-baab-e42bff24fc3a\">\n",
              "    <div class=\"colab-df-container\">\n",
              "      <div>\n",
              "<style scoped>\n",
              "    .dataframe tbody tr th:only-of-type {\n",
              "        vertical-align: middle;\n",
              "    }\n",
              "\n",
              "    .dataframe tbody tr th {\n",
              "        vertical-align: top;\n",
              "    }\n",
              "\n",
              "    .dataframe thead th {\n",
              "        text-align: right;\n",
              "    }\n",
              "</style>\n",
              "<table border=\"1\" class=\"dataframe\">\n",
              "  <thead>\n",
              "    <tr style=\"text-align: right;\">\n",
              "      <th></th>\n",
              "      <th>duration</th>\n",
              "      <th>days_left</th>\n",
              "      <th>price</th>\n",
              "    </tr>\n",
              "  </thead>\n",
              "  <tbody>\n",
              "    <tr>\n",
              "      <th>count</th>\n",
              "      <td>300153.000000</td>\n",
              "      <td>300153.000000</td>\n",
              "      <td>300153.000000</td>\n",
              "    </tr>\n",
              "    <tr>\n",
              "      <th>mean</th>\n",
              "      <td>12.221021</td>\n",
              "      <td>26.004751</td>\n",
              "      <td>20889.660523</td>\n",
              "    </tr>\n",
              "    <tr>\n",
              "      <th>std</th>\n",
              "      <td>7.191997</td>\n",
              "      <td>13.561004</td>\n",
              "      <td>22697.767366</td>\n",
              "    </tr>\n",
              "    <tr>\n",
              "      <th>min</th>\n",
              "      <td>0.830000</td>\n",
              "      <td>1.000000</td>\n",
              "      <td>1105.000000</td>\n",
              "    </tr>\n",
              "    <tr>\n",
              "      <th>25%</th>\n",
              "      <td>6.830000</td>\n",
              "      <td>15.000000</td>\n",
              "      <td>4783.000000</td>\n",
              "    </tr>\n",
              "    <tr>\n",
              "      <th>50%</th>\n",
              "      <td>11.250000</td>\n",
              "      <td>26.000000</td>\n",
              "      <td>7425.000000</td>\n",
              "    </tr>\n",
              "    <tr>\n",
              "      <th>75%</th>\n",
              "      <td>16.170000</td>\n",
              "      <td>38.000000</td>\n",
              "      <td>42521.000000</td>\n",
              "    </tr>\n",
              "    <tr>\n",
              "      <th>max</th>\n",
              "      <td>49.830000</td>\n",
              "      <td>49.000000</td>\n",
              "      <td>123071.000000</td>\n",
              "    </tr>\n",
              "  </tbody>\n",
              "</table>\n",
              "</div>\n",
              "      <button class=\"colab-df-convert\" onclick=\"convertToInteractive('df-97a32872-c884-4229-baab-e42bff24fc3a')\"\n",
              "              title=\"Convert this dataframe to an interactive table.\"\n",
              "              style=\"display:none;\">\n",
              "        \n",
              "  <svg xmlns=\"http://www.w3.org/2000/svg\" height=\"24px\"viewBox=\"0 0 24 24\"\n",
              "       width=\"24px\">\n",
              "    <path d=\"M0 0h24v24H0V0z\" fill=\"none\"/>\n",
              "    <path d=\"M18.56 5.44l.94 2.06.94-2.06 2.06-.94-2.06-.94-.94-2.06-.94 2.06-2.06.94zm-11 1L8.5 8.5l.94-2.06 2.06-.94-2.06-.94L8.5 2.5l-.94 2.06-2.06.94zm10 10l.94 2.06.94-2.06 2.06-.94-2.06-.94-.94-2.06-.94 2.06-2.06.94z\"/><path d=\"M17.41 7.96l-1.37-1.37c-.4-.4-.92-.59-1.43-.59-.52 0-1.04.2-1.43.59L10.3 9.45l-7.72 7.72c-.78.78-.78 2.05 0 2.83L4 21.41c.39.39.9.59 1.41.59.51 0 1.02-.2 1.41-.59l7.78-7.78 2.81-2.81c.8-.78.8-2.07 0-2.86zM5.41 20L4 18.59l7.72-7.72 1.47 1.35L5.41 20z\"/>\n",
              "  </svg>\n",
              "      </button>\n",
              "      \n",
              "  <style>\n",
              "    .colab-df-container {\n",
              "      display:flex;\n",
              "      flex-wrap:wrap;\n",
              "      gap: 12px;\n",
              "    }\n",
              "\n",
              "    .colab-df-convert {\n",
              "      background-color: #E8F0FE;\n",
              "      border: none;\n",
              "      border-radius: 50%;\n",
              "      cursor: pointer;\n",
              "      display: none;\n",
              "      fill: #1967D2;\n",
              "      height: 32px;\n",
              "      padding: 0 0 0 0;\n",
              "      width: 32px;\n",
              "    }\n",
              "\n",
              "    .colab-df-convert:hover {\n",
              "      background-color: #E2EBFA;\n",
              "      box-shadow: 0px 1px 2px rgba(60, 64, 67, 0.3), 0px 1px 3px 1px rgba(60, 64, 67, 0.15);\n",
              "      fill: #174EA6;\n",
              "    }\n",
              "\n",
              "    [theme=dark] .colab-df-convert {\n",
              "      background-color: #3B4455;\n",
              "      fill: #D2E3FC;\n",
              "    }\n",
              "\n",
              "    [theme=dark] .colab-df-convert:hover {\n",
              "      background-color: #434B5C;\n",
              "      box-shadow: 0px 1px 3px 1px rgba(0, 0, 0, 0.15);\n",
              "      filter: drop-shadow(0px 1px 2px rgba(0, 0, 0, 0.3));\n",
              "      fill: #FFFFFF;\n",
              "    }\n",
              "  </style>\n",
              "\n",
              "      <script>\n",
              "        const buttonEl =\n",
              "          document.querySelector('#df-97a32872-c884-4229-baab-e42bff24fc3a button.colab-df-convert');\n",
              "        buttonEl.style.display =\n",
              "          google.colab.kernel.accessAllowed ? 'block' : 'none';\n",
              "\n",
              "        async function convertToInteractive(key) {\n",
              "          const element = document.querySelector('#df-97a32872-c884-4229-baab-e42bff24fc3a');\n",
              "          const dataTable =\n",
              "            await google.colab.kernel.invokeFunction('convertToInteractive',\n",
              "                                                     [key], {});\n",
              "          if (!dataTable) return;\n",
              "\n",
              "          const docLinkHtml = 'Like what you see? Visit the ' +\n",
              "            '<a target=\"_blank\" href=https://colab.research.google.com/notebooks/data_table.ipynb>data table notebook</a>'\n",
              "            + ' to learn more about interactive tables.';\n",
              "          element.innerHTML = '';\n",
              "          dataTable['output_type'] = 'display_data';\n",
              "          await google.colab.output.renderOutput(dataTable, element);\n",
              "          const docLink = document.createElement('div');\n",
              "          docLink.innerHTML = docLinkHtml;\n",
              "          element.appendChild(docLink);\n",
              "        }\n",
              "      </script>\n",
              "    </div>\n",
              "  </div>\n",
              "  "
            ]
          },
          "metadata": {},
          "execution_count": 37
        }
      ],
      "source": [
        "df.describe()"
      ]
    },
    {
      "cell_type": "code",
      "execution_count": null,
      "id": "57ff99c2",
      "metadata": {
        "id": "57ff99c2",
        "outputId": "36c66499-9643-454a-d9a6-db4eb00fb975",
        "colab": {
          "base_uri": "https://localhost:8080/"
        }
      },
      "outputs": [
        {
          "output_type": "stream",
          "name": "stdout",
          "text": [
            "7425.0\n"
          ]
        }
      ],
      "source": [
        "print(df['price'].median())"
      ]
    },
    {
      "cell_type": "code",
      "execution_count": null,
      "id": "84c22615",
      "metadata": {
        "id": "84c22615",
        "outputId": "ce1fa863-8f34-4a72-e81e-8ddd41c904df",
        "colab": {
          "base_uri": "https://localhost:8080/",
          "height": 372
        }
      },
      "outputs": [
        {
          "output_type": "execute_result",
          "data": {
            "text/plain": [
              "Text(0.5, 0, 'Price')"
            ]
          },
          "metadata": {},
          "execution_count": 39
        },
        {
          "output_type": "display_data",
          "data": {
            "text/plain": [
              "<Figure size 1080x360 with 1 Axes>"
            ],
            "image/png": "[encoded data removed]"
          },
          "metadata": {
            "needs_background": "light"
          }
        }
      ],
      "source": [
        "plt.figure(figsize = (15,5))\n",
        "\n",
        "\n",
        "sns.boxplot(x = 'price', data = df, color=\"blue\")\n",
        "plt.title('Price Ranges',fontsize=16)\n",
        "plt.xlabel('Price',fontsize=12)\n",
        "\n"
      ]
    },
    {
      "cell_type": "code",
      "execution_count": null,
      "id": "60d2e9e3",
      "metadata": {
        "id": "60d2e9e3",
        "outputId": "9ba88345-ede6-487b-e397-7fe315b0f3b9",
        "colab": {
          "base_uri": "https://localhost:8080/",
          "height": 355
        }
      },
      "outputs": [
        {
          "output_type": "execute_result",
          "data": {
            "text/plain": [
              "Text(0, 0.5, 'The Number of Flights')"
            ]
          },
          "metadata": {},
          "execution_count": 40
        },
        {
          "output_type": "display_data",
          "data": {
            "text/plain": [
              "<Figure size 1080x360 with 1 Axes>"
            ],
            "image/png": "[encoded data removed]"
          },
          "metadata": {
            "needs_background": "light"
          }
        }
      ],
      "source": [
        "plt.figure(figsize = (15,5))\n",
        "\n",
        "\n",
        "sns.histplot(x = 'price', data = df, kde = True, color=\"blue\")\n",
        "plt.title('Histogram',fontsize=16)\n",
        "plt.xlabel('Price',fontsize=12)\n",
        "plt.ylabel('The Number of Flights',fontsize=12)"
      ]
    },
    {
      "cell_type": "markdown",
      "id": "7f09ceb0",
      "metadata": {
        "id": "7f09ceb0"
      },
      "source": [
        "Mean Price:20889.660523, Median Price:7425.0. The histogram graph shows a right-skewed distribution(Mean>Median). The Majority of prices is between 1000 - 20000 Rs."
      ]
    },
    {
      "cell_type": "markdown",
      "id": "27d66d2e",
      "metadata": {
        "id": "27d66d2e"
      },
      "source": [
        "### How do the ticket prices vary between Economy and Business class?"
      ]
    },
    {
      "cell_type": "markdown",
      "id": "96a22bc2",
      "metadata": {
        "id": "96a22bc2"
      },
      "source": [
        "To understand the price difference between the economy and business class plot the price histogram for economy and business seperately."
      ]
    },
    {
      "cell_type": "code",
      "execution_count": null,
      "id": "133a69fe",
      "metadata": {
        "id": "133a69fe"
      },
      "outputs": [],
      "source": [
        "df1 = df.loc[df[\"class\"]=='Economy']\n",
        "df2 = df.loc[df[\"class\"]=='Business']"
      ]
    },
    {
      "cell_type": "code",
      "execution_count": null,
      "id": "c5204bf7",
      "metadata": {
        "id": "c5204bf7",
        "outputId": "aad654b1-6a0d-4d33-fc32-0f0b7c863c10",
        "colab": {
          "base_uri": "https://localhost:8080/",
          "height": 339
        }
      },
      "outputs": [
        {
          "output_type": "execute_result",
          "data": {
            "text/plain": [
              "    airline   flight source_city departure_time stops   arrival_time  \\\n",
              "0  SpiceJet  SG-8709       Delhi        Evening  zero          Night   \n",
              "1  SpiceJet  SG-8157       Delhi  Early_Morning  zero        Morning   \n",
              "2   AirAsia   I5-764       Delhi  Early_Morning  zero  Early_Morning   \n",
              "3   Vistara   UK-995       Delhi        Morning  zero      Afternoon   \n",
              "4   Vistara   UK-963       Delhi        Morning  zero        Morning   \n",
              "\n",
              "  destination_city    class  duration  days_left  price  \n",
              "0           Mumbai  Economy      2.17          1   5953  \n",
              "1           Mumbai  Economy      2.33          1   5953  \n",
              "2           Mumbai  Economy      2.17          1   5956  \n",
              "3           Mumbai  Economy      2.25          1   5955  \n",
              "4           Mumbai  Economy      2.33          1   5955  "
            ],
            "text/html": [
              "\n",
              "  <div id=\"df-35c5f732-a9c0-4cbe-86ef-6b7be33d2938\">\n",
              "    <div class=\"colab-df-container\">\n",
              "      <div>\n",
              "<style scoped>\n",
              "    .dataframe tbody tr th:only-of-type {\n",
              "        vertical-align: middle;\n",
              "    }\n",
              "\n",
              "    .dataframe tbody tr th {\n",
              "        vertical-align: top;\n",
              "    }\n",
              "\n",
              "    .dataframe thead th {\n",
              "        text-align: right;\n",
              "    }\n",
              "</style>\n",
              "<table border=\"1\" class=\"dataframe\">\n",
              "  <thead>\n",
              "    <tr style=\"text-align: right;\">\n",
              "      <th></th>\n",
              "      <th>airline</th>\n",
              "      <th>flight</th>\n",
              "      <th>source_city</th>\n",
              "      <th>departure_time</th>\n",
              "      <th>stops</th>\n",
              "      <th>arrival_time</th>\n",
              "      <th>destination_city</th>\n",
              "      <th>class</th>\n",
              "      <th>duration</th>\n",
              "      <th>days_left</th>\n",
              "      <th>price</th>\n",
              "    </tr>\n",
              "  </thead>\n",
              "  <tbody>\n",
              "    <tr>\n",
              "      <th>0</th>\n",
              "      <td>SpiceJet</td>\n",
              "      <td>SG-8709</td>\n",
              "      <td>Delhi</td>\n",
              "      <td>Evening</td>\n",
              "      <td>zero</td>\n",
              "      <td>Night</td>\n",
              "      <td>Mumbai</td>\n",
              "      <td>Economy</td>\n",
              "      <td>2.17</td>\n",
              "      <td>1</td>\n",
              "      <td>5953</td>\n",
              "    </tr>\n",
              "    <tr>\n",
              "      <th>1</th>\n",
              "      <td>SpiceJet</td>\n",
              "      <td>SG-8157</td>\n",
              "      <td>Delhi</td>\n",
              "      <td>Early_Morning</td>\n",
              "      <td>zero</td>\n",
              "      <td>Morning</td>\n",
              "      <td>Mumbai</td>\n",
              "      <td>Economy</td>\n",
              "      <td>2.33</td>\n",
              "      <td>1</td>\n",
              "      <td>5953</td>\n",
              "    </tr>\n",
              "    <tr>\n",
              "      <th>2</th>\n",
              "      <td>AirAsia</td>\n",
              "      <td>I5-764</td>\n",
              "      <td>Delhi</td>\n",
              "      <td>Early_Morning</td>\n",
              "      <td>zero</td>\n",
              "      <td>Early_Morning</td>\n",
              "      <td>Mumbai</td>\n",
              "      <td>Economy</td>\n",
              "      <td>2.17</td>\n",
              "      <td>1</td>\n",
              "      <td>5956</td>\n",
              "    </tr>\n",
              "    <tr>\n",
              "      <th>3</th>\n",
              "      <td>Vistara</td>\n",
              "      <td>UK-995</td>\n",
              "      <td>Delhi</td>\n",
              "      <td>Morning</td>\n",
              "      <td>zero</td>\n",
              "      <td>Afternoon</td>\n",
              "      <td>Mumbai</td>\n",
              "      <td>Economy</td>\n",
              "      <td>2.25</td>\n",
              "      <td>1</td>\n",
              "      <td>5955</td>\n",
              "    </tr>\n",
              "    <tr>\n",
              "      <th>4</th>\n",
              "      <td>Vistara</td>\n",
              "      <td>UK-963</td>\n",
              "      <td>Delhi</td>\n",
              "      <td>Morning</td>\n",
              "      <td>zero</td>\n",
              "      <td>Morning</td>\n",
              "      <td>Mumbai</td>\n",
              "      <td>Economy</td>\n",
              "      <td>2.33</td>\n",
              "      <td>1</td>\n",
              "      <td>5955</td>\n",
              "    </tr>\n",
              "  </tbody>\n",
              "</table>\n",
              "</div>\n",
              "      <button class=\"colab-df-convert\" onclick=\"convertToInteractive('df-35c5f732-a9c0-4cbe-86ef-6b7be33d2938')\"\n",
              "              title=\"Convert this dataframe to an interactive table.\"\n",
              "              style=\"display:none;\">\n",
              "        \n",
              "  <svg xmlns=\"http://www.w3.org/2000/svg\" height=\"24px\"viewBox=\"0 0 24 24\"\n",
              "       width=\"24px\">\n",
              "    <path d=\"M0 0h24v24H0V0z\" fill=\"none\"/>\n",
              "    <path d=\"M18.56 5.44l.94 2.06.94-2.06 2.06-.94-2.06-.94-.94-2.06-.94 2.06-2.06.94zm-11 1L8.5 8.5l.94-2.06 2.06-.94-2.06-.94L8.5 2.5l-.94 2.06-2.06.94zm10 10l.94 2.06.94-2.06 2.06-.94-2.06-.94-.94-2.06-.94 2.06-2.06.94z\"/><path d=\"M17.41 7.96l-1.37-1.37c-.4-.4-.92-.59-1.43-.59-.52 0-1.04.2-1.43.59L10.3 9.45l-7.72 7.72c-.78.78-.78 2.05 0 2.83L4 21.41c.39.39.9.59 1.41.59.51 0 1.02-.2 1.41-.59l7.78-7.78 2.81-2.81c.8-.78.8-2.07 0-2.86zM5.41 20L4 18.59l7.72-7.72 1.47 1.35L5.41 20z\"/>\n",
              "  </svg>\n",
              "      </button>\n",
              "      \n",
              "  <style>\n",
              "    .colab-df-container {\n",
              "      display:flex;\n",
              "      flex-wrap:wrap;\n",
              "      gap: 12px;\n",
              "    }\n",
              "\n",
              "    .colab-df-convert {\n",
              "      background-color: #E8F0FE;\n",
              "      border: none;\n",
              "      border-radius: 50%;\n",
              "      cursor: pointer;\n",
              "      display: none;\n",
              "      fill: #1967D2;\n",
              "      height: 32px;\n",
              "      padding: 0 0 0 0;\n",
              "      width: 32px;\n",
              "    }\n",
              "\n",
              "    .colab-df-convert:hover {\n",
              "      background-color: #E2EBFA;\n",
              "      box-shadow: 0px 1px 2px rgba(60, 64, 67, 0.3), 0px 1px 3px 1px rgba(60, 64, 67, 0.15);\n",
              "      fill: #174EA6;\n",
              "    }\n",
              "\n",
              "    [theme=dark] .colab-df-convert {\n",
              "      background-color: #3B4455;\n",
              "      fill: #D2E3FC;\n",
              "    }\n",
              "\n",
              "    [theme=dark] .colab-df-convert:hover {\n",
              "      background-color: #434B5C;\n",
              "      box-shadow: 0px 1px 3px 1px rgba(0, 0, 0, 0.15);\n",
              "      filter: drop-shadow(0px 1px 2px rgba(0, 0, 0, 0.3));\n",
              "      fill: #FFFFFF;\n",
              "    }\n",
              "  </style>\n",
              "\n",
              "      <script>\n",
              "        const buttonEl =\n",
              "          document.querySelector('#df-35c5f732-a9c0-4cbe-86ef-6b7be33d2938 button.colab-df-convert');\n",
              "        buttonEl.style.display =\n",
              "          google.colab.kernel.accessAllowed ? 'block' : 'none';\n",
              "\n",
              "        async function convertToInteractive(key) {\n",
              "          const element = document.querySelector('#df-35c5f732-a9c0-4cbe-86ef-6b7be33d2938');\n",
              "          const dataTable =\n",
              "            await google.colab.kernel.invokeFunction('convertToInteractive',\n",
              "                                                     [key], {});\n",
              "          if (!dataTable) return;\n",
              "\n",
              "          const docLinkHtml = 'Like what you see? Visit the ' +\n",
              "            '<a target=\"_blank\" href=https://colab.research.google.com/notebooks/data_table.ipynb>data table notebook</a>'\n",
              "            + ' to learn more about interactive tables.';\n",
              "          element.innerHTML = '';\n",
              "          dataTable['output_type'] = 'display_data';\n",
              "          await google.colab.output.renderOutput(dataTable, element);\n",
              "          const docLink = document.createElement('div');\n",
              "          docLink.innerHTML = docLinkHtml;\n",
              "          element.appendChild(docLink);\n",
              "        }\n",
              "      </script>\n",
              "    </div>\n",
              "  </div>\n",
              "  "
            ]
          },
          "metadata": {},
          "execution_count": 42
        }
      ],
      "source": [
        "df1.head()"
      ]
    },
    {
      "cell_type": "code",
      "execution_count": null,
      "id": "e73964e2",
      "metadata": {
        "id": "e73964e2",
        "outputId": "f812e38a-8817-4249-ac6e-86ae9908b279",
        "colab": {
          "base_uri": "https://localhost:8080/",
          "height": 270
        }
      },
      "outputs": [
        {
          "output_type": "execute_result",
          "data": {
            "text/plain": [
              "          airline  flight source_city departure_time stops arrival_time  \\\n",
              "206666  Air_India  AI-868       Delhi        Evening  zero      Evening   \n",
              "206667  Air_India  AI-624       Delhi        Evening  zero        Night   \n",
              "206668  Air_India  AI-531       Delhi        Evening   one        Night   \n",
              "206669  Air_India  AI-839       Delhi          Night   one        Night   \n",
              "206670  Air_India  AI-544       Delhi        Evening   one        Night   \n",
              "\n",
              "       destination_city     class  duration  days_left  price  \n",
              "206666           Mumbai  Business      2.00          1  25612  \n",
              "206667           Mumbai  Business      2.25          1  25612  \n",
              "206668           Mumbai  Business     24.75          1  42220  \n",
              "206669           Mumbai  Business     26.50          1  44450  \n",
              "206670           Mumbai  Business      6.67          1  46690  "
            ],
            "text/html": [
              "\n",
              "  <div id=\"df-eec2c6c5-38f3-40ec-aaa7-2867a0b56479\">\n",
              "    <div class=\"colab-df-container\">\n",
              "      <div>\n",
              "<style scoped>\n",
              "    .dataframe tbody tr th:only-of-type {\n",
              "        vertical-align: middle;\n",
              "    }\n",
              "\n",
              "    .dataframe tbody tr th {\n",
              "        vertical-align: top;\n",
              "    }\n",
              "\n",
              "    .dataframe thead th {\n",
              "        text-align: right;\n",
              "    }\n",
              "</style>\n",
              "<table border=\"1\" class=\"dataframe\">\n",
              "  <thead>\n",
              "    <tr style=\"text-align: right;\">\n",
              "      <th></th>\n",
              "      <th>airline</th>\n",
              "      <th>flight</th>\n",
              "      <th>source_city</th>\n",
              "      <th>departure_time</th>\n",
              "      <th>stops</th>\n",
              "      <th>arrival_time</th>\n",
              "      <th>destination_city</th>\n",
              "      <th>class</th>\n",
              "      <th>duration</th>\n",
              "      <th>days_left</th>\n",
              "      <th>price</th>\n",
              "    </tr>\n",
              "  </thead>\n",
              "  <tbody>\n",
              "    <tr>\n",
              "      <th>206666</th>\n",
              "      <td>Air_India</td>\n",
              "      <td>AI-868</td>\n",
              "      <td>Delhi</td>\n",
              "      <td>Evening</td>\n",
              "      <td>zero</td>\n",
              "      <td>Evening</td>\n",
              "      <td>Mumbai</td>\n",
              "      <td>Business</td>\n",
              "      <td>2.00</td>\n",
              "      <td>1</td>\n",
              "      <td>25612</td>\n",
              "    </tr>\n",
              "    <tr>\n",
              "      <th>206667</th>\n",
              "      <td>Air_India</td>\n",
              "      <td>AI-624</td>\n",
              "      <td>Delhi</td>\n",
              "      <td>Evening</td>\n",
              "      <td>zero</td>\n",
              "      <td>Night</td>\n",
              "      <td>Mumbai</td>\n",
              "      <td>Business</td>\n",
              "      <td>2.25</td>\n",
              "      <td>1</td>\n",
              "      <td>25612</td>\n",
              "    </tr>\n",
              "    <tr>\n",
              "      <th>206668</th>\n",
              "      <td>Air_India</td>\n",
              "      <td>AI-531</td>\n",
              "      <td>Delhi</td>\n",
              "      <td>Evening</td>\n",
              "      <td>one</td>\n",
              "      <td>Night</td>\n",
              "      <td>Mumbai</td>\n",
              "      <td>Business</td>\n",
              "      <td>24.75</td>\n",
              "      <td>1</td>\n",
              "      <td>42220</td>\n",
              "    </tr>\n",
              "    <tr>\n",
              "      <th>206669</th>\n",
              "      <td>Air_India</td>\n",
              "      <td>AI-839</td>\n",
              "      <td>Delhi</td>\n",
              "      <td>Night</td>\n",
              "      <td>one</td>\n",
              "      <td>Night</td>\n",
              "      <td>Mumbai</td>\n",
              "      <td>Business</td>\n",
              "      <td>26.50</td>\n",
              "      <td>1</td>\n",
              "      <td>44450</td>\n",
              "    </tr>\n",
              "    <tr>\n",
              "      <th>206670</th>\n",
              "      <td>Air_India</td>\n",
              "      <td>AI-544</td>\n",
              "      <td>Delhi</td>\n",
              "      <td>Evening</td>\n",
              "      <td>one</td>\n",
              "      <td>Night</td>\n",
              "      <td>Mumbai</td>\n",
              "      <td>Business</td>\n",
              "      <td>6.67</td>\n",
              "      <td>1</td>\n",
              "      <td>46690</td>\n",
              "    </tr>\n",
              "  </tbody>\n",
              "</table>\n",
              "</div>\n",
              "      <button class=\"colab-df-convert\" onclick=\"convertToInteractive('df-eec2c6c5-38f3-40ec-aaa7-2867a0b56479')\"\n",
              "              title=\"Convert this dataframe to an interactive table.\"\n",
              "              style=\"display:none;\">\n",
              "        \n",
              "  <svg xmlns=\"http://www.w3.org/2000/svg\" height=\"24px\"viewBox=\"0 0 24 24\"\n",
              "       width=\"24px\">\n",
              "    <path d=\"M0 0h24v24H0V0z\" fill=\"none\"/>\n",
              "    <path d=\"M18.56 5.44l.94 2.06.94-2.06 2.06-.94-2.06-.94-.94-2.06-.94 2.06-2.06.94zm-11 1L8.5 8.5l.94-2.06 2.06-.94-2.06-.94L8.5 2.5l-.94 2.06-2.06.94zm10 10l.94 2.06.94-2.06 2.06-.94-2.06-.94-.94-2.06-.94 2.06-2.06.94z\"/><path d=\"M17.41 7.96l-1.37-1.37c-.4-.4-.92-.59-1.43-.59-.52 0-1.04.2-1.43.59L10.3 9.45l-7.72 7.72c-.78.78-.78 2.05 0 2.83L4 21.41c.39.39.9.59 1.41.59.51 0 1.02-.2 1.41-.59l7.78-7.78 2.81-2.81c.8-.78.8-2.07 0-2.86zM5.41 20L4 18.59l7.72-7.72 1.47 1.35L5.41 20z\"/>\n",
              "  </svg>\n",
              "      </button>\n",
              "      \n",
              "  <style>\n",
              "    .colab-df-container {\n",
              "      display:flex;\n",
              "      flex-wrap:wrap;\n",
              "      gap: 12px;\n",
              "    }\n",
              "\n",
              "    .colab-df-convert {\n",
              "      background-color: #E8F0FE;\n",
              "      border: none;\n",
              "      border-radius: 50%;\n",
              "      cursor: pointer;\n",
              "      display: none;\n",
              "      fill: #1967D2;\n",
              "      height: 32px;\n",
              "      padding: 0 0 0 0;\n",
              "      width: 32px;\n",
              "    }\n",
              "\n",
              "    .colab-df-convert:hover {\n",
              "      background-color: #E2EBFA;\n",
              "      box-shadow: 0px 1px 2px rgba(60, 64, 67, 0.3), 0px 1px 3px 1px rgba(60, 64, 67, 0.15);\n",
              "      fill: #174EA6;\n",
              "    }\n",
              "\n",
              "    [theme=dark] .colab-df-convert {\n",
              "      background-color: #3B4455;\n",
              "      fill: #D2E3FC;\n",
              "    }\n",
              "\n",
              "    [theme=dark] .colab-df-convert:hover {\n",
              "      background-color: #434B5C;\n",
              "      box-shadow: 0px 1px 3px 1px rgba(0, 0, 0, 0.15);\n",
              "      filter: drop-shadow(0px 1px 2px rgba(0, 0, 0, 0.3));\n",
              "      fill: #FFFFFF;\n",
              "    }\n",
              "  </style>\n",
              "\n",
              "      <script>\n",
              "        const buttonEl =\n",
              "          document.querySelector('#df-eec2c6c5-38f3-40ec-aaa7-2867a0b56479 button.colab-df-convert');\n",
              "        buttonEl.style.display =\n",
              "          google.colab.kernel.accessAllowed ? 'block' : 'none';\n",
              "\n",
              "        async function convertToInteractive(key) {\n",
              "          const element = document.querySelector('#df-eec2c6c5-38f3-40ec-aaa7-2867a0b56479');\n",
              "          const dataTable =\n",
              "            await google.colab.kernel.invokeFunction('convertToInteractive',\n",
              "                                                     [key], {});\n",
              "          if (!dataTable) return;\n",
              "\n",
              "          const docLinkHtml = 'Like what you see? Visit the ' +\n",
              "            '<a target=\"_blank\" href=https://colab.research.google.com/notebooks/data_table.ipynb>data table notebook</a>'\n",
              "            + ' to learn more about interactive tables.';\n",
              "          element.innerHTML = '';\n",
              "          dataTable['output_type'] = 'display_data';\n",
              "          await google.colab.output.renderOutput(dataTable, element);\n",
              "          const docLink = document.createElement('div');\n",
              "          docLink.innerHTML = docLinkHtml;\n",
              "          element.appendChild(docLink);\n",
              "        }\n",
              "      </script>\n",
              "    </div>\n",
              "  </div>\n",
              "  "
            ]
          },
          "metadata": {},
          "execution_count": 43
        }
      ],
      "source": [
        "df2.head()"
      ]
    },
    {
      "cell_type": "code",
      "execution_count": null,
      "id": "0eb3ec84",
      "metadata": {
        "id": "0eb3ec84",
        "outputId": "5b00bb80-6827-4912-e628-cb9f5d75ef25",
        "colab": {
          "base_uri": "https://localhost:8080/"
        }
      },
      "outputs": [
        {
          "output_type": "execute_result",
          "data": {
            "text/plain": [
              "5772.0"
            ]
          },
          "metadata": {},
          "execution_count": 44
        }
      ],
      "source": [
        "df1['price'].median()"
      ]
    },
    {
      "cell_type": "code",
      "execution_count": null,
      "id": "b935204b",
      "metadata": {
        "id": "b935204b",
        "outputId": "8ed35249-c84d-4a9d-dc43-fbef15dd5bdb",
        "colab": {
          "base_uri": "https://localhost:8080/"
        }
      },
      "outputs": [
        {
          "output_type": "execute_result",
          "data": {
            "text/plain": [
              "53164.0"
            ]
          },
          "metadata": {},
          "execution_count": 45
        }
      ],
      "source": [
        "df2['price'].median()"
      ]
    },
    {
      "cell_type": "code",
      "execution_count": null,
      "id": "c02455ce",
      "metadata": {
        "id": "c02455ce",
        "outputId": "93a72e73-d7a9-4b7b-8c13-ae69da2b694d",
        "colab": {
          "base_uri": "https://localhost:8080/"
        }
      },
      "outputs": [
        {
          "output_type": "execute_result",
          "data": {
            "text/plain": [
              "6572.342383362527"
            ]
          },
          "metadata": {},
          "execution_count": 46
        }
      ],
      "source": [
        "df1['price'].mean()"
      ]
    },
    {
      "cell_type": "code",
      "execution_count": null,
      "id": "617a53e3",
      "metadata": {
        "id": "617a53e3",
        "outputId": "6c21352d-82a5-4a68-adb4-2884943a3022",
        "colab": {
          "base_uri": "https://localhost:8080/"
        }
      },
      "outputs": [
        {
          "output_type": "execute_result",
          "data": {
            "text/plain": [
              "52540.08112357868"
            ]
          },
          "metadata": {},
          "execution_count": 47
        }
      ],
      "source": [
        "df2['price'].mean()"
      ]
    },
    {
      "cell_type": "code",
      "execution_count": null,
      "id": "a72769c4",
      "metadata": {
        "id": "a72769c4",
        "outputId": "157e5c2d-4a5c-4110-9ea3-6b253ecdb656",
        "colab": {
          "base_uri": "https://localhost:8080/",
          "height": 370
        }
      },
      "outputs": [
        {
          "output_type": "execute_result",
          "data": {
            "text/plain": [
              "Text(0.5, 1.0, 'Economy class')"
            ]
          },
          "metadata": {},
          "execution_count": 48
        },
        {
          "output_type": "display_data",
          "data": {
            "text/plain": [
              "<Figure size 1080x360 with 2 Axes>"
            ],
            "image/png": "[encoded data removed]"
          },
          "metadata": {
            "needs_background": "light"
          }
        }
      ],
      "source": [
        "plt.figure(figsize=(15,5))\n",
        "\n",
        "plt.subplot(1,2,1)\n",
        "sns.boxplot(x='price',data=df1,color='blue')\n",
        "plt.xlabel('price',fontsize=12)\n",
        "plt.title('Economy class')\n",
        "\n",
        "\n",
        "plt.subplot(1,2,2)\n",
        "sns.histplot(x='price',data=df1,color='green')\n",
        "plt.xlabel('Price')\n",
        "plt.title('Economy class')"
      ]
    },
    {
      "cell_type": "code",
      "execution_count": null,
      "id": "1b6c0b35",
      "metadata": {
        "id": "1b6c0b35",
        "outputId": "47635631-b9fb-497e-af78-7bac42674b53",
        "colab": {
          "base_uri": "https://localhost:8080/",
          "height": 370
        }
      },
      "outputs": [
        {
          "output_type": "execute_result",
          "data": {
            "text/plain": [
              "Text(0.5, 1.0, 'Business class')"
            ]
          },
          "metadata": {},
          "execution_count": 49
        },
        {
          "output_type": "display_data",
          "data": {
            "text/plain": [
              "<Figure size 1080x360 with 2 Axes>"
            ],
            "image/png": "[encoded data removed]"
          },
          "metadata": {
            "needs_background": "light"
          }
        }
      ],
      "source": [
        "plt.figure(figsize=(15,5))\n",
        "\n",
        "plt.subplot(1,2,1)\n",
        "sns.boxplot(x='price',data=df2,color='blue')\n",
        "plt.xlabel('price',fontsize=12)\n",
        "plt.title('Business class')\n",
        "\n",
        "\n",
        "plt.subplot(1,2,2)\n",
        "sns.histplot(x='price',data=df2,color='green')\n",
        "plt.xlabel('Price')\n",
        "plt.title('Business class')"
      ]
    },
    {
      "cell_type": "markdown",
      "id": "dd4c6d03",
      "metadata": {
        "id": "dd4c6d03"
      },
      "source": [
        "As we see through above plots Economy class have median of 5772 and the mean of 6572\n",
        "and in Business Class have median of 53164 and the mean of 52540.\n",
        "\n",
        "As we can see the economy avg price vary around 8 times lesser than economy class."
      ]
    },
    {
      "cell_type": "markdown",
      "id": "dad1d6eb",
      "metadata": {
        "id": "dad1d6eb"
      },
      "source": [
        "### How do the ticket prices vary between Airlines?"
      ]
    },
    {
      "cell_type": "code",
      "execution_count": null,
      "id": "fd06ea9f",
      "metadata": {
        "id": "fd06ea9f",
        "outputId": "bb82ac25-9346-4994-aee1-601b9155309a",
        "colab": {
          "base_uri": "https://localhost:8080/",
          "height": 334
        }
      },
      "outputs": [
        {
          "output_type": "execute_result",
          "data": {
            "text/plain": [
              "<Axes: xlabel='airline', ylabel='price'>"
            ]
          },
          "metadata": {},
          "execution_count": 50
        },
        {
          "output_type": "display_data",
          "data": {
            "text/plain": [
              "<Figure size 1080x360 with 1 Axes>"
            ],
            "image/png": "[encoded data removed]"
          },
          "metadata": {
            "needs_background": "light"
          }
        }
      ],
      "source": [
        "plt.figure(figsize=(15,5))\n",
        "sns.boxplot(x=df['airline'],y=df['price'])"
      ]
    },
    {
      "cell_type": "markdown",
      "id": "93d8632b",
      "metadata": {
        "id": "93d8632b"
      },
      "source": [
        "Vistara and Air_India have higher price distribution range because of the economy and business class variety in these both flights\n",
        "\n",
        "Hence we will plot another graph by differentiating between economy and business classes of the of two airlines"
      ]
    },
    {
      "cell_type": "code",
      "execution_count": null,
      "id": "89d5f6a2",
      "metadata": {
        "id": "89d5f6a2",
        "outputId": "55082d5a-5a66-4fd7-beee-83cf92bd2473",
        "colab": {
          "base_uri": "https://localhost:8080/",
          "height": 337
        }
      },
      "outputs": [
        {
          "output_type": "execute_result",
          "data": {
            "text/plain": [
              "<Axes: xlabel='airline', ylabel='price'>"
            ]
          },
          "metadata": {},
          "execution_count": 51
        },
        {
          "output_type": "display_data",
          "data": {
            "text/plain": [
              "<Figure size 1080x360 with 1 Axes>"
            ],
            "image/png": "[encoded data removed]"
          },
          "metadata": {
            "needs_background": "light"
          }
        }
      ],
      "source": [
        "plt.figure(figsize=(15,5))\n",
        "sns.boxplot(x = 'airline', y='price',data= df1)"
      ]
    },
    {
      "cell_type": "code",
      "execution_count": null,
      "id": "789d038b",
      "metadata": {
        "id": "789d038b",
        "outputId": "08057ecf-5c01-41bf-c6d3-f974764f7c8e",
        "colab": {
          "base_uri": "https://localhost:8080/",
          "height": 334
        }
      },
      "outputs": [
        {
          "output_type": "execute_result",
          "data": {
            "text/plain": [
              "<Axes: xlabel='airline', ylabel='price'>"
            ]
          },
          "metadata": {},
          "execution_count": 52
        },
        {
          "output_type": "display_data",
          "data": {
            "text/plain": [
              "<Figure size 1080x360 with 1 Axes>"
            ],
            "image/png": "[encoded data removed]"
          },
          "metadata": {
            "needs_background": "light"
          }
        }
      ],
      "source": [
        "plt.figure(figsize=(15,5))\n",
        "sns.boxplot(x='airline',y='price',data=df2)"
      ]
    },
    {
      "cell_type": "markdown",
      "id": "7a50b7dd",
      "metadata": {
        "id": "7a50b7dd"
      },
      "source": [
        "In economy class and business class Vistara Airline have higher number of tickets sales.Whereas in economy class AirAisa have least number of price  of ticket.\n",
        "\n"
      ]
    },
    {
      "cell_type": "markdown",
      "id": "4513e7ed",
      "metadata": {
        "id": "4513e7ed"
      },
      "source": [
        "### Does the flight duration effect ticket prices?"
      ]
    },
    {
      "cell_type": "code",
      "execution_count": null,
      "id": "036fa355",
      "metadata": {
        "id": "036fa355"
      },
      "outputs": [],
      "source": [
        "dfduration = df.groupby(['duration'])['price'].mean().reset_index()"
      ]
    },
    {
      "cell_type": "code",
      "execution_count": null,
      "id": "79a6bf0b",
      "metadata": {
        "scrolled": true,
        "id": "79a6bf0b",
        "outputId": "ca4405d6-f8e7-4467-c99a-6f9d7d09a019",
        "colab": {
          "base_uri": "https://localhost:8080/",
          "height": 333
        }
      },
      "outputs": [
        {
          "output_type": "execute_result",
          "data": {
            "text/plain": [
              "<Axes: xlabel='duration', ylabel='price'>"
            ]
          },
          "metadata": {},
          "execution_count": 54
        },
        {
          "output_type": "display_data",
          "data": {
            "text/plain": [
              "<Figure size 1080x360 with 1 Axes>"
            ],
            "image/png": "[encoded data removed]"
          },
          "metadata": {
            "needs_background": "light"
          }
        }
      ],
      "source": [
        "plt.figure(figsize=(15,5))\n",
        "sns.scatterplot(x='duration',y='price',data=dfduration)\n",
        "sns.regplot(data=dfduration, x=\"duration\", y=\"price\", order=2)"
      ]
    },
    {
      "cell_type": "markdown",
      "id": "aed50b8a",
      "metadata": {
        "id": "aed50b8a"
      },
      "source": [
        "As per the graph , the prices of ticket rises till duration of 20 mintues,then it decreases gradually from 20 minutes to 50 mintutes"
      ]
    },
    {
      "cell_type": "markdown",
      "id": "424b292e",
      "metadata": {
        "id": "424b292e"
      },
      "source": [
        "### Does the number of stops effect ticket prices?"
      ]
    },
    {
      "cell_type": "code",
      "execution_count": null,
      "id": "c13653e2",
      "metadata": {
        "id": "c13653e2",
        "outputId": "0d64943d-d188-4ae7-8d67-44f4a97aad7b",
        "colab": {
          "base_uri": "https://localhost:8080/",
          "height": 352
        }
      },
      "outputs": [
        {
          "output_type": "execute_result",
          "data": {
            "text/plain": [
              "Text(0.5, 1.0, 'Plotting by Economy class')"
            ]
          },
          "metadata": {},
          "execution_count": 55
        },
        {
          "output_type": "display_data",
          "data": {
            "text/plain": [
              "<Figure size 1080x360 with 1 Axes>"
            ],
            "image/png": "[encoded data removed]"
          },
          "metadata": {
            "needs_background": "light"
          }
        }
      ],
      "source": [
        "plt.figure(figsize=(15,5))\n",
        "sns.boxplot(x='airline',y='price',hue='stops',data=df1)\n",
        "plt.title('Plotting by Economy class')"
      ]
    },
    {
      "cell_type": "code",
      "execution_count": null,
      "id": "c49a5f4b",
      "metadata": {
        "id": "c49a5f4b",
        "outputId": "b2e8897d-d098-48ae-dd4c-189369b87c4d",
        "colab": {
          "base_uri": "https://localhost:8080/",
          "height": 349
        }
      },
      "outputs": [
        {
          "output_type": "execute_result",
          "data": {
            "text/plain": [
              "Text(0.5, 1.0, 'Plotting by Business class')"
            ]
          },
          "metadata": {},
          "execution_count": 56
        },
        {
          "output_type": "display_data",
          "data": {
            "text/plain": [
              "<Figure size 1080x360 with 1 Axes>"
            ],
            "image/png": "[encoded data removed]"
          },
          "metadata": {
            "needs_background": "light"
          }
        }
      ],
      "source": [
        "plt.figure(figsize=(15,5))\n",
        "sns.boxplot(x='airline',y='price',hue='stops',data=df2)\n",
        "plt.title('Plotting by Business class')"
      ]
    },
    {
      "cell_type": "markdown",
      "id": "2a5bfe4d",
      "metadata": {
        "id": "2a5bfe4d"
      },
      "source": [
        "As per the above graphs \n",
        "\n",
        "In economy class the no of stops does affect the ticket price of airlines, higher no of stops , higher the price\n",
        "\n",
        "In Business class the no of stops does  affect the ticket price of airlines, higher no of stops , higher the price"
      ]
    },
    {
      "cell_type": "markdown",
      "id": "14a13464",
      "metadata": {
        "id": "14a13464"
      },
      "source": [
        "### Do the days left to departure effect ticket prices?"
      ]
    },
    {
      "cell_type": "code",
      "execution_count": null,
      "id": "41185ff6",
      "metadata": {
        "id": "41185ff6"
      },
      "outputs": [],
      "source": [
        "dfdaysleft = df.groupby(['days_left'])['price'].mean().reset_index()"
      ]
    },
    {
      "cell_type": "code",
      "execution_count": null,
      "id": "ca31d70a",
      "metadata": {
        "id": "ca31d70a",
        "outputId": "0856f9d1-69c2-4429-cab2-90cfbe5d364e",
        "colab": {
          "base_uri": "https://localhost:8080/",
          "height": 337
        }
      },
      "outputs": [
        {
          "output_type": "execute_result",
          "data": {
            "text/plain": [
              "<Axes: xlabel='days_left', ylabel='price'>"
            ]
          },
          "metadata": {},
          "execution_count": 58
        },
        {
          "output_type": "display_data",
          "data": {
            "text/plain": [
              "<Figure size 1080x360 with 1 Axes>"
            ],
            "image/png": "[encoded data removed]"
          },
          "metadata": {
            "needs_background": "light"
          }
        }
      ],
      "source": [
        "plt.figure(figsize=(15,5))\n",
        "sns.scatterplot(x='days_left',y='price',data=dfdaysleft)"
      ]
    },
    {
      "cell_type": "markdown",
      "id": "bf51806f",
      "metadata": {
        "id": "bf51806f"
      },
      "source": [
        "Prices rises when days are lesser as compared to the prices are cheaper when days_left is greater"
      ]
    },
    {
      "cell_type": "markdown",
      "id": "a56b6585",
      "metadata": {
        "id": "a56b6585"
      },
      "source": [
        "### Do the departure time and the arrival time effect ticket prices?\n",
        "\n"
      ]
    },
    {
      "cell_type": "code",
      "execution_count": null,
      "id": "ad650d8e",
      "metadata": {
        "id": "ad650d8e",
        "outputId": "5c4860ee-6aa0-448a-b1a6-f854f05d8adb",
        "colab": {
          "base_uri": "https://localhost:8080/",
          "height": 335
        }
      },
      "outputs": [
        {
          "output_type": "execute_result",
          "data": {
            "text/plain": [
              "<Axes: xlabel='departure_time', ylabel='price'>"
            ]
          },
          "metadata": {},
          "execution_count": 59
        },
        {
          "output_type": "display_data",
          "data": {
            "text/plain": [
              "<Figure size 1080x360 with 1 Axes>"
            ],
            "image/png": "[encoded data removed]"
          },
          "metadata": {
            "needs_background": "light"
          }
        }
      ],
      "source": [
        "plt.figure(figsize=(15,5))\n",
        "sns.boxplot(x='departure_time',y='price',data=df)"
      ]
    },
    {
      "cell_type": "code",
      "execution_count": null,
      "id": "4b306996",
      "metadata": {
        "id": "4b306996",
        "outputId": "5f9b2111-b443-4ba7-98bc-bbfd9c788ad5",
        "colab": {
          "base_uri": "https://localhost:8080/",
          "height": 335
        }
      },
      "outputs": [
        {
          "output_type": "execute_result",
          "data": {
            "text/plain": [
              "<Axes: xlabel='arrival_time', ylabel='price'>"
            ]
          },
          "metadata": {},
          "execution_count": 60
        },
        {
          "output_type": "display_data",
          "data": {
            "text/plain": [
              "<Figure size 1080x360 with 1 Axes>"
            ],
            "image/png": "[encoded data removed]"
          },
          "metadata": {
            "needs_background": "light"
          }
        }
      ],
      "source": [
        "plt.figure(figsize=(15,5))\n",
        "sns.boxplot(x='arrival_time',y='price',data=df)"
      ]
    },
    {
      "cell_type": "markdown",
      "id": "b2a4b5fd",
      "metadata": {
        "id": "b2a4b5fd"
      },
      "source": [
        "arrival time : Early mornings and late night are cheapest.\n",
        "\n",
        "departure time :Late Nights are cheaper.\n",
        "    \n",
        "arrival time: Evening flights are expensive.\n",
        "\n",
        "departure time:Night flights are expensive."
      ]
    },
    {
      "cell_type": "markdown",
      "id": "cb67acbf",
      "metadata": {
        "id": "cb67acbf"
      },
      "source": [
        "### Do the Source City and Destination City effect ticket prices?"
      ]
    },
    {
      "cell_type": "code",
      "execution_count": null,
      "id": "d84185a2",
      "metadata": {
        "id": "d84185a2",
        "outputId": "149c1bad-08d0-47e3-973a-280cd0dfc2b5",
        "colab": {
          "base_uri": "https://localhost:8080/",
          "height": 334
        }
      },
      "outputs": [
        {
          "output_type": "execute_result",
          "data": {
            "text/plain": [
              "<Axes: xlabel='source_city', ylabel='price'>"
            ]
          },
          "metadata": {},
          "execution_count": 61
        },
        {
          "output_type": "display_data",
          "data": {
            "text/plain": [
              "<Figure size 1080x360 with 1 Axes>"
            ],
            "image/png": "[encoded data removed]"
          },
          "metadata": {
            "needs_background": "light"
          }
        }
      ],
      "source": [
        "plt.figure(figsize=(15,5))\n",
        "sns.boxplot(x='source_city',y='price',data=df)"
      ]
    },
    {
      "cell_type": "code",
      "execution_count": null,
      "id": "53b32bd7",
      "metadata": {
        "id": "53b32bd7",
        "outputId": "81646482-b872-4bd7-d8c9-30f42f84f82d",
        "colab": {
          "base_uri": "https://localhost:8080/",
          "height": 334
        }
      },
      "outputs": [
        {
          "output_type": "execute_result",
          "data": {
            "text/plain": [
              "<Axes: xlabel='destination_city', ylabel='price'>"
            ]
          },
          "metadata": {},
          "execution_count": 62
        },
        {
          "output_type": "display_data",
          "data": {
            "text/plain": [
              "<Figure size 1080x360 with 1 Axes>"
            ],
            "image/png": "[encoded data removed]"
          },
          "metadata": {
            "needs_background": "light"
          }
        }
      ],
      "source": [
        "plt.figure(figsize=(15,5))\n",
        "sns.boxplot(x='destination_city',y='price',data=df)"
      ]
    },
    {
      "cell_type": "code",
      "execution_count": null,
      "id": "b75aee70",
      "metadata": {
        "id": "b75aee70",
        "outputId": "6b644c8b-2ce1-4307-8471-8096e0178511",
        "colab": {
          "base_uri": "https://localhost:8080/",
          "height": 617
        }
      },
      "outputs": [
        {
          "output_type": "display_data",
          "data": {
            "text/plain": [
              "<Figure size 1080x720 with 6 Axes>"
            ],
            "image/png": "[encoded data removed]"
          },
          "metadata": {
            "needs_background": "light"
          }
        }
      ],
      "source": [
        "sns.relplot(col='source_city',x='destination_city',y='price',kind='line',data=df,col_wrap=3)\n",
        "plt.xticks(rotation=45)\n",
        "plt.show()"
      ]
    },
    {
      "cell_type": "markdown",
      "id": "96d54091",
      "metadata": {
        "id": "96d54091"
      },
      "source": [
        "Flights leaving from or arriving at Delhi have the cheaper prices compared to other source and destination cities. On the other hand, other source and destination cities have similar price ranges"
      ]
    },
    {
      "cell_type": "markdown",
      "id": "5f87ab4c",
      "metadata": {
        "id": "5f87ab4c"
      },
      "source": [
        "## Which features effect the ticket prices mostly?"
      ]
    },
    {
      "cell_type": "code",
      "execution_count": null,
      "id": "0acc04aa",
      "metadata": {
        "id": "0acc04aa"
      },
      "outputs": [],
      "source": [
        "def preprocessing(df):\n",
        "    df['stops']=df['stops'].replace({'zero':0,'one':1,'two_or_more':2}).astype(int)\n",
        "    df['class']=df['class'].replace({'Economy':0,'Business':1}).astype(int)\n",
        "    dummy_variables= [\"airline\",\"source_city\",\"destination_city\",\"departure_time\",\"arrival_time\"]\n",
        "    dummies= pd.get_dummies(df[dummy_variables],drop_first=True)\n",
        "    \n",
        "    df=pd.concat([df,dummies],axis=1)\n",
        "    df= df.drop([\"flight\",\"airline\",\"source_city\",\"destination_city\",\"departure_time\",\"arrival_time\"],axis=1)\n",
        "    return df"
      ]
    },
    {
      "cell_type": "code",
      "execution_count": null,
      "id": "53dafa22",
      "metadata": {
        "id": "53dafa22"
      },
      "outputs": [],
      "source": [
        "df_preprocessing = preprocessing(df)"
      ]
    },
    {
      "cell_type": "code",
      "execution_count": null,
      "id": "4bfaad60",
      "metadata": {
        "id": "4bfaad60",
        "outputId": "5ae5e3f2-93e1-458f-bd93-a002531da593",
        "colab": {
          "base_uri": "https://localhost:8080/",
          "height": 299
        }
      },
      "outputs": [
        {
          "output_type": "execute_result",
          "data": {
            "text/plain": [
              "   stops  class  duration  days_left  price  airline_Air_India  \\\n",
              "0      0      0      2.17          1   5953                  0   \n",
              "1      0      0      2.33          1   5953                  0   \n",
              "2      0      0      2.17          1   5956                  0   \n",
              "3      0      0      2.25          1   5955                  0   \n",
              "4      0      0      2.33          1   5955                  0   \n",
              "\n",
              "   airline_GO_FIRST  airline_Indigo  airline_SpiceJet  airline_Vistara  ...  \\\n",
              "0                 0               0                 1                0  ...   \n",
              "1                 0               0                 1                0  ...   \n",
              "2                 0               0                 0                0  ...   \n",
              "3                 0               0                 0                1  ...   \n",
              "4                 0               0                 0                1  ...   \n",
              "\n",
              "   departure_time_Early_Morning  departure_time_Evening  \\\n",
              "0                             0                       1   \n",
              "1                             1                       0   \n",
              "2                             1                       0   \n",
              "3                             0                       0   \n",
              "4                             0                       0   \n",
              "\n",
              "   departure_time_Late_Night  departure_time_Morning  departure_time_Night  \\\n",
              "0                          0                       0                     0   \n",
              "1                          0                       0                     0   \n",
              "2                          0                       0                     0   \n",
              "3                          0                       1                     0   \n",
              "4                          0                       1                     0   \n",
              "\n",
              "   arrival_time_Early_Morning  arrival_time_Evening  arrival_time_Late_Night  \\\n",
              "0                           0                     0                        0   \n",
              "1                           0                     0                        0   \n",
              "2                           1                     0                        0   \n",
              "3                           0                     0                        0   \n",
              "4                           0                     0                        0   \n",
              "\n",
              "   arrival_time_Morning  arrival_time_Night  \n",
              "0                     0                   1  \n",
              "1                     1                   0  \n",
              "2                     0                   0  \n",
              "3                     0                   0  \n",
              "4                     1                   0  \n",
              "\n",
              "[5 rows x 30 columns]"
            ],
            "text/html": [
              "\n",
              "  <div id=\"df-ada2c79d-dec4-4dd8-b052-ac67bb2bccf6\">\n",
              "    <div class=\"colab-df-container\">\n",
              "      <div>\n",
              "<style scoped>\n",
              "    .dataframe tbody tr th:only-of-type {\n",
              "        vertical-align: middle;\n",
              "    }\n",
              "\n",
              "    .dataframe tbody tr th {\n",
              "        vertical-align: top;\n",
              "    }\n",
              "\n",
              "    .dataframe thead th {\n",
              "        text-align: right;\n",
              "    }\n",
              "</style>\n",
              "<table border=\"1\" class=\"dataframe\">\n",
              "  <thead>\n",
              "    <tr style=\"text-align: right;\">\n",
              "      <th></th>\n",
              "      <th>stops</th>\n",
              "      <th>class</th>\n",
              "      <th>duration</th>\n",
              "      <th>days_left</th>\n",
              "      <th>price</th>\n",
              "      <th>airline_Air_India</th>\n",
              "      <th>airline_GO_FIRST</th>\n",
              "      <th>airline_Indigo</th>\n",
              "      <th>airline_SpiceJet</th>\n",
              "      <th>airline_Vistara</th>\n",
              "      <th>...</th>\n",
              "      <th>departure_time_Early_Morning</th>\n",
              "      <th>departure_time_Evening</th>\n",
              "      <th>departure_time_Late_Night</th>\n",
              "      <th>departure_time_Morning</th>\n",
              "      <th>departure_time_Night</th>\n",
              "      <th>arrival_time_Early_Morning</th>\n",
              "      <th>arrival_time_Evening</th>\n",
              "      <th>arrival_time_Late_Night</th>\n",
              "      <th>arrival_time_Morning</th>\n",
              "      <th>arrival_time_Night</th>\n",
              "    </tr>\n",
              "  </thead>\n",
              "  <tbody>\n",
              "    <tr>\n",
              "      <th>0</th>\n",
              "      <td>0</td>\n",
              "      <td>0</td>\n",
              "      <td>2.17</td>\n",
              "      <td>1</td>\n",
              "      <td>5953</td>\n",
              "      <td>0</td>\n",
              "      <td>0</td>\n",
              "      <td>0</td>\n",
              "      <td>1</td>\n",
              "      <td>0</td>\n",
              "      <td>...</td>\n",
              "      <td>0</td>\n",
              "      <td>1</td>\n",
              "      <td>0</td>\n",
              "      <td>0</td>\n",
              "      <td>0</td>\n",
              "      <td>0</td>\n",
              "      <td>0</td>\n",
              "      <td>0</td>\n",
              "      <td>0</td>\n",
              "      <td>1</td>\n",
              "    </tr>\n",
              "    <tr>\n",
              "      <th>1</th>\n",
              "      <td>0</td>\n",
              "      <td>0</td>\n",
              "      <td>2.33</td>\n",
              "      <td>1</td>\n",
              "      <td>5953</td>\n",
              "      <td>0</td>\n",
              "      <td>0</td>\n",
              "      <td>0</td>\n",
              "      <td>1</td>\n",
              "      <td>0</td>\n",
              "      <td>...</td>\n",
              "      <td>1</td>\n",
              "      <td>0</td>\n",
              "      <td>0</td>\n",
              "      <td>0</td>\n",
              "      <td>0</td>\n",
              "      <td>0</td>\n",
              "      <td>0</td>\n",
              "      <td>0</td>\n",
              "      <td>1</td>\n",
              "      <td>0</td>\n",
              "    </tr>\n",
              "    <tr>\n",
              "      <th>2</th>\n",
              "      <td>0</td>\n",
              "      <td>0</td>\n",
              "      <td>2.17</td>\n",
              "      <td>1</td>\n",
              "      <td>5956</td>\n",
              "      <td>0</td>\n",
              "      <td>0</td>\n",
              "      <td>0</td>\n",
              "      <td>0</td>\n",
              "      <td>0</td>\n",
              "      <td>...</td>\n",
              "      <td>1</td>\n",
              "      <td>0</td>\n",
              "      <td>0</td>\n",
              "      <td>0</td>\n",
              "      <td>0</td>\n",
              "      <td>1</td>\n",
              "      <td>0</td>\n",
              "      <td>0</td>\n",
              "      <td>0</td>\n",
              "      <td>0</td>\n",
              "    </tr>\n",
              "    <tr>\n",
              "      <th>3</th>\n",
              "      <td>0</td>\n",
              "      <td>0</td>\n",
              "      <td>2.25</td>\n",
              "      <td>1</td>\n",
              "      <td>5955</td>\n",
              "      <td>0</td>\n",
              "      <td>0</td>\n",
              "      <td>0</td>\n",
              "      <td>0</td>\n",
              "      <td>1</td>\n",
              "      <td>...</td>\n",
              "      <td>0</td>\n",
              "      <td>0</td>\n",
              "      <td>0</td>\n",
              "      <td>1</td>\n",
              "      <td>0</td>\n",
              "      <td>0</td>\n",
              "      <td>0</td>\n",
              "      <td>0</td>\n",
              "      <td>0</td>\n",
              "      <td>0</td>\n",
              "    </tr>\n",
              "    <tr>\n",
              "      <th>4</th>\n",
              "      <td>0</td>\n",
              "      <td>0</td>\n",
              "      <td>2.33</td>\n",
              "      <td>1</td>\n",
              "      <td>5955</td>\n",
              "      <td>0</td>\n",
              "      <td>0</td>\n",
              "      <td>0</td>\n",
              "      <td>0</td>\n",
              "      <td>1</td>\n",
              "      <td>...</td>\n",
              "      <td>0</td>\n",
              "      <td>0</td>\n",
              "      <td>0</td>\n",
              "      <td>1</td>\n",
              "      <td>0</td>\n",
              "      <td>0</td>\n",
              "      <td>0</td>\n",
              "      <td>0</td>\n",
              "      <td>1</td>\n",
              "      <td>0</td>\n",
              "    </tr>\n",
              "  </tbody>\n",
              "</table>\n",
              "<p>5 rows × 30 columns</p>\n",
              "</div>\n",
              "      <button class=\"colab-df-convert\" onclick=\"convertToInteractive('df-ada2c79d-dec4-4dd8-b052-ac67bb2bccf6')\"\n",
              "              title=\"Convert this dataframe to an interactive table.\"\n",
              "              style=\"display:none;\">\n",
              "        \n",
              "  <svg xmlns=\"http://www.w3.org/2000/svg\" height=\"24px\"viewBox=\"0 0 24 24\"\n",
              "       width=\"24px\">\n",
              "    <path d=\"M0 0h24v24H0V0z\" fill=\"none\"/>\n",
              "    <path d=\"M18.56 5.44l.94 2.06.94-2.06 2.06-.94-2.06-.94-.94-2.06-.94 2.06-2.06.94zm-11 1L8.5 8.5l.94-2.06 2.06-.94-2.06-.94L8.5 2.5l-.94 2.06-2.06.94zm10 10l.94 2.06.94-2.06 2.06-.94-2.06-.94-.94-2.06-.94 2.06-2.06.94z\"/><path d=\"M17.41 7.96l-1.37-1.37c-.4-.4-.92-.59-1.43-.59-.52 0-1.04.2-1.43.59L10.3 9.45l-7.72 7.72c-.78.78-.78 2.05 0 2.83L4 21.41c.39.39.9.59 1.41.59.51 0 1.02-.2 1.41-.59l7.78-7.78 2.81-2.81c.8-.78.8-2.07 0-2.86zM5.41 20L4 18.59l7.72-7.72 1.47 1.35L5.41 20z\"/>\n",
              "  </svg>\n",
              "      </button>\n",
              "      \n",
              "  <style>\n",
              "    .colab-df-container {\n",
              "      display:flex;\n",
              "      flex-wrap:wrap;\n",
              "      gap: 12px;\n",
              "    }\n",
              "\n",
              "    .colab-df-convert {\n",
              "      background-color: #E8F0FE;\n",
              "      border: none;\n",
              "      border-radius: 50%;\n",
              "      cursor: pointer;\n",
              "      display: none;\n",
              "      fill: #1967D2;\n",
              "      height: 32px;\n",
              "      padding: 0 0 0 0;\n",
              "      width: 32px;\n",
              "    }\n",
              "\n",
              "    .colab-df-convert:hover {\n",
              "      background-color: #E2EBFA;\n",
              "      box-shadow: 0px 1px 2px rgba(60, 64, 67, 0.3), 0px 1px 3px 1px rgba(60, 64, 67, 0.15);\n",
              "      fill: #174EA6;\n",
              "    }\n",
              "\n",
              "    [theme=dark] .colab-df-convert {\n",
              "      background-color: #3B4455;\n",
              "      fill: #D2E3FC;\n",
              "    }\n",
              "\n",
              "    [theme=dark] .colab-df-convert:hover {\n",
              "      background-color: #434B5C;\n",
              "      box-shadow: 0px 1px 3px 1px rgba(0, 0, 0, 0.15);\n",
              "      filter: drop-shadow(0px 1px 2px rgba(0, 0, 0, 0.3));\n",
              "      fill: #FFFFFF;\n",
              "    }\n",
              "  </style>\n",
              "\n",
              "      <script>\n",
              "        const buttonEl =\n",
              "          document.querySelector('#df-ada2c79d-dec4-4dd8-b052-ac67bb2bccf6 button.colab-df-convert');\n",
              "        buttonEl.style.display =\n",
              "          google.colab.kernel.accessAllowed ? 'block' : 'none';\n",
              "\n",
              "        async function convertToInteractive(key) {\n",
              "          const element = document.querySelector('#df-ada2c79d-dec4-4dd8-b052-ac67bb2bccf6');\n",
              "          const dataTable =\n",
              "            await google.colab.kernel.invokeFunction('convertToInteractive',\n",
              "                                                     [key], {});\n",
              "          if (!dataTable) return;\n",
              "\n",
              "          const docLinkHtml = 'Like what you see? Visit the ' +\n",
              "            '<a target=\"_blank\" href=https://colab.research.google.com/notebooks/data_table.ipynb>data table notebook</a>'\n",
              "            + ' to learn more about interactive tables.';\n",
              "          element.innerHTML = '';\n",
              "          dataTable['output_type'] = 'display_data';\n",
              "          await google.colab.output.renderOutput(dataTable, element);\n",
              "          const docLink = document.createElement('div');\n",
              "          docLink.innerHTML = docLinkHtml;\n",
              "          element.appendChild(docLink);\n",
              "        }\n",
              "      </script>\n",
              "    </div>\n",
              "  </div>\n",
              "  "
            ]
          },
          "metadata": {},
          "execution_count": 66
        }
      ],
      "source": [
        "df_preprocessing.head()"
      ]
    },
    {
      "cell_type": "markdown",
      "id": "3c0724f7",
      "metadata": {
        "id": "3c0724f7"
      },
      "source": [
        "Correlation Analysis"
      ]
    },
    {
      "cell_type": "code",
      "execution_count": null,
      "id": "50704a2a",
      "metadata": {
        "id": "50704a2a",
        "outputId": "93a9ff41-445b-49a7-feff-a5bca41aaaeb",
        "colab": {
          "base_uri": "https://localhost:8080/",
          "height": 1000
        }
      },
      "outputs": [
        {
          "output_type": "execute_result",
          "data": {
            "text/plain": [
              "                                 stops     class  duration  days_left  \\\n",
              "stops                         1.000000  0.001027  0.468059  -0.008540   \n",
              "class                         0.001027  1.000000  0.138710  -0.013039   \n",
              "duration                      0.468059  0.138710  1.000000  -0.039157   \n",
              "days_left                    -0.008540 -0.013039 -0.039157   1.000000   \n",
              "price                         0.119648  0.937860  0.204222  -0.091949   \n",
              "airline_Air_India             0.060215  0.124899  0.277283  -0.022721   \n",
              "airline_GO_FIRST             -0.033363 -0.194540 -0.139380   0.030408   \n",
              "airline_Indigo               -0.172133 -0.275477 -0.365953   0.007839   \n",
              "airline_SpiceJet             -0.087293 -0.118325  0.008776  -0.024414   \n",
              "airline_Vistara               0.098758  0.302116  0.132430  -0.007002   \n",
              "source_city_Chennai           0.021379  0.010204  0.033053   0.002581   \n",
              "source_city_Delhi            -0.052321 -0.014098 -0.049719  -0.001292   \n",
              "source_city_Hyderabad         0.011196  0.003367  0.002595   0.010817   \n",
              "source_city_Kolkata           0.046828 -0.019162  0.061133   0.000265   \n",
              "source_city_Mumbai           -0.022452  0.015941 -0.023329  -0.008742   \n",
              "destination_city_Chennai      0.060865  0.012331  0.061271   0.000456   \n",
              "destination_city_Delhi       -0.104565 -0.021200 -0.115412   0.006233   \n",
              "destination_city_Hyderabad    0.029073  0.007564  0.065762  -0.000018   \n",
              "destination_city_Kolkata      0.062722 -0.012987  0.061440  -0.003840   \n",
              "destination_city_Mumbai      -0.046849  0.010573 -0.043900  -0.004337   \n",
              "departure_time_Early_Morning  0.010145 -0.012120 -0.047092   0.003322   \n",
              "departure_time_Evening       -0.041882  0.010789  0.104017  -0.010238   \n",
              "departure_time_Late_Night    -0.035366 -0.029378 -0.045045   0.012000   \n",
              "departure_time_Morning        0.052600  0.002801 -0.071084  -0.003206   \n",
              "departure_time_Night         -0.058166  0.049516  0.115464   0.004004   \n",
              "arrival_time_Early_Morning   -0.018657 -0.041974  0.010950   0.020204   \n",
              "arrival_time_Evening          0.070912  0.032833  0.033094  -0.013737   \n",
              "arrival_time_Late_Night      -0.018544 -0.086238 -0.107301   0.026500   \n",
              "arrival_time_Morning         -0.045666  0.039745  0.122906  -0.003619   \n",
              "arrival_time_Night            0.017965  0.008035 -0.064458  -0.004593   \n",
              "\n",
              "                                 price  airline_Air_India  airline_GO_FIRST  \\\n",
              "stops                         0.119648           0.060215         -0.033363   \n",
              "class                         0.937860           0.124899         -0.194540   \n",
              "duration                      0.204222           0.277283         -0.139380   \n",
              "days_left                    -0.091949          -0.022721          0.030408   \n",
              "price                         1.000000           0.070041         -0.194179   \n",
              "airline_Air_India             0.070041           1.000000         -0.175687   \n",
              "airline_GO_FIRST             -0.194179          -0.175687          1.000000   \n",
              "airline_Indigo               -0.280882          -0.248781         -0.118471   \n",
              "airline_SpiceJet             -0.114019          -0.106858         -0.050886   \n",
              "airline_Vistara               0.360816          -0.523242         -0.249171   \n",
              "source_city_Chennai           0.018742          -0.011600         -0.063273   \n",
              "source_city_Delhi            -0.043282           0.009886          0.030585   \n",
              "source_city_Hyderabad        -0.012828           0.001987         -0.023541   \n",
              "source_city_Kolkata           0.016127          -0.001883          0.000409   \n",
              "source_city_Mumbai            0.013206           0.036697          0.026898   \n",
              "destination_city_Chennai      0.018473           0.005760         -0.059581   \n",
              "destination_city_Delhi       -0.052527          -0.017354          0.034305   \n",
              "destination_city_Hyderabad   -0.008292           0.010900         -0.025814   \n",
              "destination_city_Kolkata      0.020956          -0.006201         -0.001016   \n",
              "destination_city_Mumbai       0.010533           0.042490          0.026916   \n",
              "departure_time_Early_Morning -0.012232           0.033703          0.028405   \n",
              "departure_time_Evening        0.007946           0.019692         -0.003699   \n",
              "departure_time_Late_Night    -0.033768          -0.006956          0.008566   \n",
              "departure_time_Morning        0.018199          -0.024826         -0.040410   \n",
              "departure_time_Night          0.041768           0.010730         -0.025366   \n",
              "arrival_time_Early_Morning   -0.060449          -0.025510          0.085654   \n",
              "arrival_time_Evening          0.056408          -0.040356         -0.043881   \n",
              "arrival_time_Late_Night      -0.093602          -0.059937          0.100450   \n",
              "arrival_time_Morning          0.030379           0.066735         -0.063926   \n",
              "arrival_time_Night            0.020344          -0.001920         -0.000382   \n",
              "\n",
              "                              airline_Indigo  airline_SpiceJet  \\\n",
              "stops                              -0.172133         -0.087293   \n",
              "class                              -0.275477         -0.118325   \n",
              "duration                           -0.365953          0.008776   \n",
              "days_left                           0.007839         -0.024414   \n",
              "price                              -0.280882         -0.114019   \n",
              "airline_Air_India                  -0.248781         -0.106858   \n",
              "airline_GO_FIRST                   -0.118471         -0.050886   \n",
              "airline_Indigo                      1.000000         -0.072057   \n",
              "airline_SpiceJet                   -0.072057          1.000000   \n",
              "airline_Vistara                    -0.352838         -0.151553   \n",
              "source_city_Chennai                 0.033626          0.003331   \n",
              "source_city_Delhi                  -0.012615          0.033040   \n",
              "source_city_Hyderabad               0.009778         -0.050872   \n",
              "source_city_Kolkata                 0.016766          0.030020   \n",
              "source_city_Mumbai                 -0.029344         -0.004572   \n",
              "destination_city_Chennai            0.018089         -0.002283   \n",
              "destination_city_Delhi             -0.002593          0.040668   \n",
              "destination_city_Hyderabad          0.000244         -0.050272   \n",
              "destination_city_Kolkata            0.033801          0.029817   \n",
              "destination_city_Mumbai            -0.031242         -0.000058   \n",
              "departure_time_Early_Morning       -0.032224          0.033931   \n",
              "departure_time_Evening             -0.020572          0.003626   \n",
              "departure_time_Late_Night           0.077697         -0.011630   \n",
              "departure_time_Morning              0.028371         -0.028322   \n",
              "departure_time_Night               -0.072394          0.005247   \n",
              "arrival_time_Early_Morning          0.013864          0.022834   \n",
              "arrival_time_Evening                0.007335         -0.042162   \n",
              "arrival_time_Late_Night             0.065025          0.003302   \n",
              "arrival_time_Morning               -0.082781          0.030808   \n",
              "arrival_time_Night                 -0.009271          0.013312   \n",
              "\n",
              "                              airline_Vistara  ...  \\\n",
              "stops                                0.098758  ...   \n",
              "class                                0.302116  ...   \n",
              "duration                             0.132430  ...   \n",
              "days_left                           -0.007002  ...   \n",
              "price                                0.360816  ...   \n",
              "airline_Air_India                   -0.523242  ...   \n",
              "airline_GO_FIRST                    -0.249171  ...   \n",
              "airline_Indigo                      -0.352838  ...   \n",
              "airline_SpiceJet                    -0.151553  ...   \n",
              "airline_Vistara                      1.000000  ...   \n",
              "source_city_Chennai                  0.031174  ...   \n",
              "source_city_Delhi                   -0.046163  ...   \n",
              "source_city_Hyderabad                0.028317  ...   \n",
              "source_city_Kolkata                 -0.027183  ...   \n",
              "source_city_Mumbai                  -0.006793  ...   \n",
              "destination_city_Chennai             0.027766  ...   \n",
              "destination_city_Delhi              -0.038389  ...   \n",
              "destination_city_Hyderabad           0.035434  ...   \n",
              "destination_city_Kolkata            -0.030555  ...   \n",
              "destination_city_Mumbai             -0.016810  ...   \n",
              "departure_time_Early_Morning        -0.036206  ...   \n",
              "departure_time_Evening              -0.005037  ...   \n",
              "departure_time_Late_Night           -0.056948  ...   \n",
              "departure_time_Morning               0.056992  ...   \n",
              "departure_time_Night                 0.042486  ...   \n",
              "arrival_time_Early_Morning          -0.058766  ...   \n",
              "arrival_time_Evening                 0.091317  ...   \n",
              "arrival_time_Late_Night             -0.135247  ...   \n",
              "arrival_time_Morning                 0.030260  ...   \n",
              "arrival_time_Night                   0.024874  ...   \n",
              "\n",
              "                              departure_time_Early_Morning  \\\n",
              "stops                                             0.010145   \n",
              "class                                            -0.012120   \n",
              "duration                                         -0.047092   \n",
              "days_left                                         0.003322   \n",
              "price                                            -0.012232   \n",
              "airline_Air_India                                 0.033703   \n",
              "airline_GO_FIRST                                  0.028405   \n",
              "airline_Indigo                                   -0.032224   \n",
              "airline_SpiceJet                                  0.033931   \n",
              "airline_Vistara                                  -0.036206   \n",
              "source_city_Chennai                               0.016910   \n",
              "source_city_Delhi                                -0.027850   \n",
              "source_city_Hyderabad                            -0.012997   \n",
              "source_city_Kolkata                              -0.048327   \n",
              "source_city_Mumbai                                0.027973   \n",
              "destination_city_Chennai                         -0.008515   \n",
              "destination_city_Delhi                           -0.004823   \n",
              "destination_city_Hyderabad                       -0.013672   \n",
              "destination_city_Kolkata                         -0.001992   \n",
              "destination_city_Mumbai                           0.038851   \n",
              "departure_time_Early_Morning                      1.000000   \n",
              "departure_time_Evening                           -0.281550   \n",
              "departure_time_Late_Night                        -0.035366   \n",
              "departure_time_Morning                           -0.298188   \n",
              "departure_time_Night                             -0.233458   \n",
              "arrival_time_Early_Morning                       -0.008912   \n",
              "arrival_time_Evening                              0.026221   \n",
              "arrival_time_Late_Night                          -0.087950   \n",
              "arrival_time_Morning                             -0.012150   \n",
              "arrival_time_Night                               -0.038415   \n",
              "\n",
              "                              departure_time_Evening  \\\n",
              "stops                                      -0.041882   \n",
              "class                                       0.010789   \n",
              "duration                                    0.104017   \n",
              "days_left                                  -0.010238   \n",
              "price                                       0.007946   \n",
              "airline_Air_India                           0.019692   \n",
              "airline_GO_FIRST                           -0.003699   \n",
              "airline_Indigo                             -0.020572   \n",
              "airline_SpiceJet                            0.003626   \n",
              "airline_Vistara                            -0.005037   \n",
              "source_city_Chennai                        -0.072170   \n",
              "source_city_Delhi                           0.069864   \n",
              "source_city_Hyderabad                      -0.067449   \n",
              "source_city_Kolkata                        -0.010257   \n",
              "source_city_Mumbai                         -0.002535   \n",
              "destination_city_Chennai                    0.021404   \n",
              "destination_city_Delhi                     -0.021366   \n",
              "destination_city_Hyderabad                  0.014388   \n",
              "destination_city_Kolkata                    0.022132   \n",
              "destination_city_Mumbai                    -0.011769   \n",
              "departure_time_Early_Morning               -0.281550   \n",
              "departure_time_Evening                      1.000000   \n",
              "departure_time_Late_Night                  -0.034791   \n",
              "departure_time_Morning                     -0.293337   \n",
              "departure_time_Night                       -0.229660   \n",
              "arrival_time_Early_Morning                  0.046954   \n",
              "arrival_time_Evening                       -0.073355   \n",
              "arrival_time_Late_Night                     0.099946   \n",
              "arrival_time_Morning                        0.077360   \n",
              "arrival_time_Night                         -0.016334   \n",
              "\n",
              "                              departure_time_Late_Night  \\\n",
              "stops                                         -0.035366   \n",
              "class                                         -0.029378   \n",
              "duration                                      -0.045045   \n",
              "days_left                                      0.012000   \n",
              "price                                         -0.033768   \n",
              "airline_Air_India                             -0.006956   \n",
              "airline_GO_FIRST                               0.008566   \n",
              "airline_Indigo                                 0.077697   \n",
              "airline_SpiceJet                              -0.011630   \n",
              "airline_Vistara                               -0.056948   \n",
              "source_city_Chennai                           -0.014559   \n",
              "source_city_Delhi                              0.011309   \n",
              "source_city_Hyderabad                         -0.020610   \n",
              "source_city_Kolkata                           -0.012280   \n",
              "source_city_Mumbai                             0.000382   \n",
              "destination_city_Chennai                      -0.008107   \n",
              "destination_city_Delhi                         0.016018   \n",
              "destination_city_Hyderabad                    -0.017226   \n",
              "destination_city_Kolkata                       0.021064   \n",
              "destination_city_Mumbai                       -0.003327   \n",
              "departure_time_Early_Morning                  -0.035366   \n",
              "departure_time_Evening                        -0.034791   \n",
              "departure_time_Late_Night                      1.000000   \n",
              "departure_time_Morning                        -0.036847   \n",
              "departure_time_Night                          -0.028848   \n",
              "arrival_time_Early_Morning                     0.099503   \n",
              "arrival_time_Evening                          -0.028446   \n",
              "arrival_time_Late_Night                        0.018262   \n",
              "arrival_time_Morning                           0.015192   \n",
              "arrival_time_Night                            -0.032136   \n",
              "\n",
              "                              departure_time_Morning  departure_time_Night  \\\n",
              "stops                                       0.052600             -0.058166   \n",
              "class                                       0.002801              0.049516   \n",
              "duration                                   -0.071084              0.115464   \n",
              "days_left                                  -0.003206              0.004004   \n",
              "price                                       0.018199              0.041768   \n",
              "airline_Air_India                          -0.024826              0.010730   \n",
              "airline_GO_FIRST                           -0.040410             -0.025366   \n",
              "airline_Indigo                              0.028371             -0.072394   \n",
              "airline_SpiceJet                           -0.028322              0.005247   \n",
              "airline_Vistara                             0.056992              0.042486   \n",
              "source_city_Chennai                         0.032187              0.036862   \n",
              "source_city_Delhi                          -0.016733             -0.062611   \n",
              "source_city_Hyderabad                       0.005729              0.068450   \n",
              "source_city_Kolkata                         0.023399              0.029276   \n",
              "source_city_Mumbai                         -0.035618             -0.005479   \n",
              "destination_city_Chennai                   -0.002446             -0.008807   \n",
              "destination_city_Delhi                      0.022891              0.001646   \n",
              "destination_city_Hyderabad                  0.001021              0.003360   \n",
              "destination_city_Kolkata                   -0.019568             -0.001539   \n",
              "destination_city_Mumbai                    -0.008805              0.001608   \n",
              "departure_time_Early_Morning               -0.298188             -0.233458   \n",
              "departure_time_Evening                     -0.293337             -0.229660   \n",
              "departure_time_Late_Night                  -0.036847             -0.028848   \n",
              "departure_time_Morning                      1.000000             -0.243232   \n",
              "departure_time_Night                       -0.243232              1.000000   \n",
              "arrival_time_Early_Morning                 -0.070994              0.072332   \n",
              "arrival_time_Evening                        0.102113             -0.068714   \n",
              "arrival_time_Late_Night                    -0.071652              0.031818   \n",
              "arrival_time_Morning                       -0.103299              0.135017   \n",
              "arrival_time_Night                          0.033736             -0.096555   \n",
              "\n",
              "                              arrival_time_Early_Morning  \\\n",
              "stops                                          -0.018657   \n",
              "class                                          -0.041974   \n",
              "duration                                        0.010950   \n",
              "days_left                                       0.020204   \n",
              "price                                          -0.060449   \n",
              "airline_Air_India                              -0.025510   \n",
              "airline_GO_FIRST                                0.085654   \n",
              "airline_Indigo                                  0.013864   \n",
              "airline_SpiceJet                                0.022834   \n",
              "airline_Vistara                                -0.058766   \n",
              "source_city_Chennai                            -0.017194   \n",
              "source_city_Delhi                               0.079021   \n",
              "source_city_Hyderabad                          -0.022677   \n",
              "source_city_Kolkata                            -0.009380   \n",
              "source_city_Mumbai                             -0.055166   \n",
              "destination_city_Chennai                        0.062267   \n",
              "destination_city_Delhi                         -0.092525   \n",
              "destination_city_Hyderabad                      0.070299   \n",
              "destination_city_Kolkata                       -0.006801   \n",
              "destination_city_Mumbai                         0.013002   \n",
              "departure_time_Early_Morning                   -0.008912   \n",
              "departure_time_Evening                          0.046954   \n",
              "departure_time_Late_Night                       0.099503   \n",
              "departure_time_Morning                         -0.070994   \n",
              "departure_time_Night                            0.072332   \n",
              "arrival_time_Early_Morning                      1.000000   \n",
              "arrival_time_Evening                           -0.138265   \n",
              "arrival_time_Late_Night                        -0.051471   \n",
              "arrival_time_Morning                           -0.119613   \n",
              "arrival_time_Night                             -0.154137   \n",
              "\n",
              "                              arrival_time_Evening  arrival_time_Late_Night  \\\n",
              "stops                                     0.070912                -0.018544   \n",
              "class                                     0.032833                -0.086238   \n",
              "duration                                  0.033094                -0.107301   \n",
              "days_left                                -0.013737                 0.026500   \n",
              "price                                     0.056408                -0.093602   \n",
              "airline_Air_India                        -0.040356                -0.059937   \n",
              "airline_GO_FIRST                         -0.043881                 0.100450   \n",
              "airline_Indigo                            0.007335                 0.065025   \n",
              "airline_SpiceJet                         -0.042162                 0.003302   \n",
              "airline_Vistara                           0.091317                -0.135247   \n",
              "source_city_Chennai                       0.016559                 0.009136   \n",
              "source_city_Delhi                        -0.025908                -0.028147   \n",
              "source_city_Hyderabad                    -0.002414                 0.008692   \n",
              "source_city_Kolkata                      -0.016585                 0.011022   \n",
              "source_city_Mumbai                        0.012009                -0.006308   \n",
              "destination_city_Chennai                 -0.027034                -0.042047   \n",
              "destination_city_Delhi                   -0.019831                 0.145477   \n",
              "destination_city_Hyderabad               -0.014137                -0.065021   \n",
              "destination_city_Kolkata                  0.102012                -0.045990   \n",
              "destination_city_Mumbai                  -0.051664                -0.039240   \n",
              "departure_time_Early_Morning              0.026221                -0.087950   \n",
              "departure_time_Evening                   -0.073355                 0.099946   \n",
              "departure_time_Late_Night                -0.028446                 0.018262   \n",
              "departure_time_Morning                    0.102113                -0.071652   \n",
              "departure_time_Night                     -0.068714                 0.031818   \n",
              "arrival_time_Early_Morning               -0.138265                -0.051471   \n",
              "arrival_time_Evening                      1.000000                -0.131436   \n",
              "arrival_time_Late_Night                  -0.131436                 1.000000   \n",
              "arrival_time_Morning                     -0.305445                -0.113705   \n",
              "arrival_time_Night                       -0.393607                -0.146524   \n",
              "\n",
              "                              arrival_time_Morning  arrival_time_Night  \n",
              "stops                                    -0.045666            0.017965  \n",
              "class                                     0.039745            0.008035  \n",
              "duration                                  0.122906           -0.064458  \n",
              "days_left                                -0.003619           -0.004593  \n",
              "price                                     0.030379            0.020344  \n",
              "airline_Air_India                         0.066735           -0.001920  \n",
              "airline_GO_FIRST                         -0.063926           -0.000382  \n",
              "airline_Indigo                           -0.082781           -0.009271  \n",
              "airline_SpiceJet                          0.030808            0.013312  \n",
              "airline_Vistara                           0.030260            0.024874  \n",
              "source_city_Chennai                      -0.024027            0.004418  \n",
              "source_city_Delhi                         0.003773           -0.007427  \n",
              "source_city_Hyderabad                     0.007773            0.010121  \n",
              "source_city_Kolkata                      -0.002086            0.016071  \n",
              "source_city_Mumbai                        0.021071            0.008394  \n",
              "destination_city_Chennai                  0.053861            0.018494  \n",
              "destination_city_Delhi                   -0.034404           -0.026672  \n",
              "destination_city_Hyderabad               -0.033281            0.020541  \n",
              "destination_city_Kolkata                  0.035956           -0.090034  \n",
              "destination_city_Mumbai                  -0.028310            0.067681  \n",
              "departure_time_Early_Morning             -0.012150           -0.038415  \n",
              "departure_time_Evening                    0.077360           -0.016334  \n",
              "departure_time_Late_Night                 0.015192           -0.032136  \n",
              "departure_time_Morning                   -0.103299            0.033736  \n",
              "departure_time_Night                      0.135017           -0.096555  \n",
              "arrival_time_Early_Morning               -0.119613           -0.154137  \n",
              "arrival_time_Evening                     -0.305445           -0.393607  \n",
              "arrival_time_Late_Night                  -0.113705           -0.146524  \n",
              "arrival_time_Morning                      1.000000           -0.340507  \n",
              "arrival_time_Night                       -0.340507            1.000000  \n",
              "\n",
              "[30 rows x 30 columns]"
            ],
            "text/html": [
              "\n",
              "  <div id=\"df-66fa2907-b415-4c64-8934-cf6635554b2b\">\n",
              "    <div class=\"colab-df-container\">\n",
              "      <div>\n",
              "<style scoped>\n",
              "    .dataframe tbody tr th:only-of-type {\n",
              "        vertical-align: middle;\n",
              "    }\n",
              "\n",
              "    .dataframe tbody tr th {\n",
              "        vertical-align: top;\n",
              "    }\n",
              "\n",
              "    .dataframe thead th {\n",
              "        text-align: right;\n",
              "    }\n",
              "</style>\n",
              "<table border=\"1\" class=\"dataframe\">\n",
              "  <thead>\n",
              "    <tr style=\"text-align: right;\">\n",
              "      <th></th>\n",
              "      <th>stops</th>\n",
              "      <th>class</th>\n",
              "      <th>duration</th>\n",
              "      <th>days_left</th>\n",
              "      <th>price</th>\n",
              "      <th>airline_Air_India</th>\n",
              "      <th>airline_GO_FIRST</th>\n",
              "      <th>airline_Indigo</th>\n",
              "      <th>airline_SpiceJet</th>\n",
              "      <th>airline_Vistara</th>\n",
              "      <th>...</th>\n",
              "      <th>departure_time_Early_Morning</th>\n",
              "      <th>departure_time_Evening</th>\n",
              "      <th>departure_time_Late_Night</th>\n",
              "      <th>departure_time_Morning</th>\n",
              "      <th>departure_time_Night</th>\n",
              "      <th>arrival_time_Early_Morning</th>\n",
              "      <th>arrival_time_Evening</th>\n",
              "      <th>arrival_time_Late_Night</th>\n",
              "      <th>arrival_time_Morning</th>\n",
              "      <th>arrival_time_Night</th>\n",
              "    </tr>\n",
              "  </thead>\n",
              "  <tbody>\n",
              "    <tr>\n",
              "      <th>stops</th>\n",
              "      <td>1.000000</td>\n",
              "      <td>0.001027</td>\n",
              "      <td>0.468059</td>\n",
              "      <td>-0.008540</td>\n",
              "      <td>0.119648</td>\n",
              "      <td>0.060215</td>\n",
              "      <td>-0.033363</td>\n",
              "      <td>-0.172133</td>\n",
              "      <td>-0.087293</td>\n",
              "      <td>0.098758</td>\n",
              "      <td>...</td>\n",
              "      <td>0.010145</td>\n",
              "      <td>-0.041882</td>\n",
              "      <td>-0.035366</td>\n",
              "      <td>0.052600</td>\n",
              "      <td>-0.058166</td>\n",
              "      <td>-0.018657</td>\n",
              "      <td>0.070912</td>\n",
              "      <td>-0.018544</td>\n",
              "      <td>-0.045666</td>\n",
              "      <td>0.017965</td>\n",
              "    </tr>\n",
              "    <tr>\n",
              "      <th>class</th>\n",
              "      <td>0.001027</td>\n",
              "      <td>1.000000</td>\n",
              "      <td>0.138710</td>\n",
              "      <td>-0.013039</td>\n",
              "      <td>0.937860</td>\n",
              "      <td>0.124899</td>\n",
              "      <td>-0.194540</td>\n",
              "      <td>-0.275477</td>\n",
              "      <td>-0.118325</td>\n",
              "      <td>0.302116</td>\n",
              "      <td>...</td>\n",
              "      <td>-0.012120</td>\n",
              "      <td>0.010789</td>\n",
              "      <td>-0.029378</td>\n",
              "      <td>0.002801</td>\n",
              "      <td>0.049516</td>\n",
              "      <td>-0.041974</td>\n",
              "      <td>0.032833</td>\n",
              "      <td>-0.086238</td>\n",
              "      <td>0.039745</td>\n",
              "      <td>0.008035</td>\n",
              "    </tr>\n",
              "    <tr>\n",
              "      <th>duration</th>\n",
              "      <td>0.468059</td>\n",
              "      <td>0.138710</td>\n",
              "      <td>1.000000</td>\n",
              "      <td>-0.039157</td>\n",
              "      <td>0.204222</td>\n",
              "      <td>0.277283</td>\n",
              "      <td>-0.139380</td>\n",
              "      <td>-0.365953</td>\n",
              "      <td>0.008776</td>\n",
              "      <td>0.132430</td>\n",
              "      <td>...</td>\n",
              "      <td>-0.047092</td>\n",
              "      <td>0.104017</td>\n",
              "      <td>-0.045045</td>\n",
              "      <td>-0.071084</td>\n",
              "      <td>0.115464</td>\n",
              "      <td>0.010950</td>\n",
              "      <td>0.033094</td>\n",
              "      <td>-0.107301</td>\n",
              "      <td>0.122906</td>\n",
              "      <td>-0.064458</td>\n",
              "    </tr>\n",
              "    <tr>\n",
              "      <th>days_left</th>\n",
              "      <td>-0.008540</td>\n",
              "      <td>-0.013039</td>\n",
              "      <td>-0.039157</td>\n",
              "      <td>1.000000</td>\n",
              "      <td>-0.091949</td>\n",
              "      <td>-0.022721</td>\n",
              "      <td>0.030408</td>\n",
              "      <td>0.007839</td>\n",
              "      <td>-0.024414</td>\n",
              "      <td>-0.007002</td>\n",
              "      <td>...</td>\n",
              "      <td>0.003322</td>\n",
              "      <td>-0.010238</td>\n",
              "      <td>0.012000</td>\n",
              "      <td>-0.003206</td>\n",
              "      <td>0.004004</td>\n",
              "      <td>0.020204</td>\n",
              "      <td>-0.013737</td>\n",
              "      <td>0.026500</td>\n",
              "      <td>-0.003619</td>\n",
              "      <td>-0.004593</td>\n",
              "    </tr>\n",
              "    <tr>\n",
              "      <th>price</th>\n",
              "      <td>0.119648</td>\n",
              "      <td>0.937860</td>\n",
              "      <td>0.204222</td>\n",
              "      <td>-0.091949</td>\n",
              "      <td>1.000000</td>\n",
              "      <td>0.070041</td>\n",
              "      <td>-0.194179</td>\n",
              "      <td>-0.280882</td>\n",
              "      <td>-0.114019</td>\n",
              "      <td>0.360816</td>\n",
              "      <td>...</td>\n",
              "      <td>-0.012232</td>\n",
              "      <td>0.007946</td>\n",
              "      <td>-0.033768</td>\n",
              "      <td>0.018199</td>\n",
              "      <td>0.041768</td>\n",
              "      <td>-0.060449</td>\n",
              "      <td>0.056408</td>\n",
              "      <td>-0.093602</td>\n",
              "      <td>0.030379</td>\n",
              "      <td>0.020344</td>\n",
              "    </tr>\n",
              "    <tr>\n",
              "      <th>airline_Air_India</th>\n",
              "      <td>0.060215</td>\n",
              "      <td>0.124899</td>\n",
              "      <td>0.277283</td>\n",
              "      <td>-0.022721</td>\n",
              "      <td>0.070041</td>\n",
              "      <td>1.000000</td>\n",
              "      <td>-0.175687</td>\n",
              "      <td>-0.248781</td>\n",
              "      <td>-0.106858</td>\n",
              "      <td>-0.523242</td>\n",
              "      <td>...</td>\n",
              "      <td>0.033703</td>\n",
              "      <td>0.019692</td>\n",
              "      <td>-0.006956</td>\n",
              "      <td>-0.024826</td>\n",
              "      <td>0.010730</td>\n",
              "      <td>-0.025510</td>\n",
              "      <td>-0.040356</td>\n",
              "      <td>-0.059937</td>\n",
              "      <td>0.066735</td>\n",
              "      <td>-0.001920</td>\n",
              "    </tr>\n",
              "    <tr>\n",
              "      <th>airline_GO_FIRST</th>\n",
              "      <td>-0.033363</td>\n",
              "      <td>-0.194540</td>\n",
              "      <td>-0.139380</td>\n",
              "      <td>0.030408</td>\n",
              "      <td>-0.194179</td>\n",
              "      <td>-0.175687</td>\n",
              "      <td>1.000000</td>\n",
              "      <td>-0.118471</td>\n",
              "      <td>-0.050886</td>\n",
              "      <td>-0.249171</td>\n",
              "      <td>...</td>\n",
              "      <td>0.028405</td>\n",
              "      <td>-0.003699</td>\n",
              "      <td>0.008566</td>\n",
              "      <td>-0.040410</td>\n",
              "      <td>-0.025366</td>\n",
              "      <td>0.085654</td>\n",
              "      <td>-0.043881</td>\n",
              "      <td>0.100450</td>\n",
              "      <td>-0.063926</td>\n",
              "      <td>-0.000382</td>\n",
              "    </tr>\n",
              "    <tr>\n",
              "      <th>airline_Indigo</th>\n",
              "      <td>-0.172133</td>\n",
              "      <td>-0.275477</td>\n",
              "      <td>-0.365953</td>\n",
              "      <td>0.007839</td>\n",
              "      <td>-0.280882</td>\n",
              "      <td>-0.248781</td>\n",
              "      <td>-0.118471</td>\n",
              "      <td>1.000000</td>\n",
              "      <td>-0.072057</td>\n",
              "      <td>-0.352838</td>\n",
              "      <td>...</td>\n",
              "      <td>-0.032224</td>\n",
              "      <td>-0.020572</td>\n",
              "      <td>0.077697</td>\n",
              "      <td>0.028371</td>\n",
              "      <td>-0.072394</td>\n",
              "      <td>0.013864</td>\n",
              "      <td>0.007335</td>\n",
              "      <td>0.065025</td>\n",
              "      <td>-0.082781</td>\n",
              "      <td>-0.009271</td>\n",
              "    </tr>\n",
              "    <tr>\n",
              "      <th>airline_SpiceJet</th>\n",
              "      <td>-0.087293</td>\n",
              "      <td>-0.118325</td>\n",
              "      <td>0.008776</td>\n",
              "      <td>-0.024414</td>\n",
              "      <td>-0.114019</td>\n",
              "      <td>-0.106858</td>\n",
              "      <td>-0.050886</td>\n",
              "      <td>-0.072057</td>\n",
              "      <td>1.000000</td>\n",
              "      <td>-0.151553</td>\n",
              "      <td>...</td>\n",
              "      <td>0.033931</td>\n",
              "      <td>0.003626</td>\n",
              "      <td>-0.011630</td>\n",
              "      <td>-0.028322</td>\n",
              "      <td>0.005247</td>\n",
              "      <td>0.022834</td>\n",
              "      <td>-0.042162</td>\n",
              "      <td>0.003302</td>\n",
              "      <td>0.030808</td>\n",
              "      <td>0.013312</td>\n",
              "    </tr>\n",
              "    <tr>\n",
              "      <th>airline_Vistara</th>\n",
              "      <td>0.098758</td>\n",
              "      <td>0.302116</td>\n",
              "      <td>0.132430</td>\n",
              "      <td>-0.007002</td>\n",
              "      <td>0.360816</td>\n",
              "      <td>-0.523242</td>\n",
              "      <td>-0.249171</td>\n",
              "      <td>-0.352838</td>\n",
              "      <td>-0.151553</td>\n",
              "      <td>1.000000</td>\n",
              "      <td>...</td>\n",
              "      <td>-0.036206</td>\n",
              "      <td>-0.005037</td>\n",
              "      <td>-0.056948</td>\n",
              "      <td>0.056992</td>\n",
              "      <td>0.042486</td>\n",
              "      <td>-0.058766</td>\n",
              "      <td>0.091317</td>\n",
              "      <td>-0.135247</td>\n",
              "      <td>0.030260</td>\n",
              "      <td>0.024874</td>\n",
              "    </tr>\n",
              "    <tr>\n",
              "      <th>source_city_Chennai</th>\n",
              "      <td>0.021379</td>\n",
              "      <td>0.010204</td>\n",
              "      <td>0.033053</td>\n",
              "      <td>0.002581</td>\n",
              "      <td>0.018742</td>\n",
              "      <td>-0.011600</td>\n",
              "      <td>-0.063273</td>\n",
              "      <td>0.033626</td>\n",
              "      <td>0.003331</td>\n",
              "      <td>0.031174</td>\n",
              "      <td>...</td>\n",
              "      <td>0.016910</td>\n",
              "      <td>-0.072170</td>\n",
              "      <td>-0.014559</td>\n",
              "      <td>0.032187</td>\n",
              "      <td>0.036862</td>\n",
              "      <td>-0.017194</td>\n",
              "      <td>0.016559</td>\n",
              "      <td>0.009136</td>\n",
              "      <td>-0.024027</td>\n",
              "      <td>0.004418</td>\n",
              "    </tr>\n",
              "    <tr>\n",
              "      <th>source_city_Delhi</th>\n",
              "      <td>-0.052321</td>\n",
              "      <td>-0.014098</td>\n",
              "      <td>-0.049719</td>\n",
              "      <td>-0.001292</td>\n",
              "      <td>-0.043282</td>\n",
              "      <td>0.009886</td>\n",
              "      <td>0.030585</td>\n",
              "      <td>-0.012615</td>\n",
              "      <td>0.033040</td>\n",
              "      <td>-0.046163</td>\n",
              "      <td>...</td>\n",
              "      <td>-0.027850</td>\n",
              "      <td>0.069864</td>\n",
              "      <td>0.011309</td>\n",
              "      <td>-0.016733</td>\n",
              "      <td>-0.062611</td>\n",
              "      <td>0.079021</td>\n",
              "      <td>-0.025908</td>\n",
              "      <td>-0.028147</td>\n",
              "      <td>0.003773</td>\n",
              "      <td>-0.007427</td>\n",
              "    </tr>\n",
              "    <tr>\n",
              "      <th>source_city_Hyderabad</th>\n",
              "      <td>0.011196</td>\n",
              "      <td>0.003367</td>\n",
              "      <td>0.002595</td>\n",
              "      <td>0.010817</td>\n",
              "      <td>-0.012828</td>\n",
              "      <td>0.001987</td>\n",
              "      <td>-0.023541</td>\n",
              "      <td>0.009778</td>\n",
              "      <td>-0.050872</td>\n",
              "      <td>0.028317</td>\n",
              "      <td>...</td>\n",
              "      <td>-0.012997</td>\n",
              "      <td>-0.067449</td>\n",
              "      <td>-0.020610</td>\n",
              "      <td>0.005729</td>\n",
              "      <td>0.068450</td>\n",
              "      <td>-0.022677</td>\n",
              "      <td>-0.002414</td>\n",
              "      <td>0.008692</td>\n",
              "      <td>0.007773</td>\n",
              "      <td>0.010121</td>\n",
              "    </tr>\n",
              "    <tr>\n",
              "      <th>source_city_Kolkata</th>\n",
              "      <td>0.046828</td>\n",
              "      <td>-0.019162</td>\n",
              "      <td>0.061133</td>\n",
              "      <td>0.000265</td>\n",
              "      <td>0.016127</td>\n",
              "      <td>-0.001883</td>\n",
              "      <td>0.000409</td>\n",
              "      <td>0.016766</td>\n",
              "      <td>0.030020</td>\n",
              "      <td>-0.027183</td>\n",
              "      <td>...</td>\n",
              "      <td>-0.048327</td>\n",
              "      <td>-0.010257</td>\n",
              "      <td>-0.012280</td>\n",
              "      <td>0.023399</td>\n",
              "      <td>0.029276</td>\n",
              "      <td>-0.009380</td>\n",
              "      <td>-0.016585</td>\n",
              "      <td>0.011022</td>\n",
              "      <td>-0.002086</td>\n",
              "      <td>0.016071</td>\n",
              "    </tr>\n",
              "    <tr>\n",
              "      <th>source_city_Mumbai</th>\n",
              "      <td>-0.022452</td>\n",
              "      <td>0.015941</td>\n",
              "      <td>-0.023329</td>\n",
              "      <td>-0.008742</td>\n",
              "      <td>0.013206</td>\n",
              "      <td>0.036697</td>\n",
              "      <td>0.026898</td>\n",
              "      <td>-0.029344</td>\n",
              "      <td>-0.004572</td>\n",
              "      <td>-0.006793</td>\n",
              "      <td>...</td>\n",
              "      <td>0.027973</td>\n",
              "      <td>-0.002535</td>\n",
              "      <td>0.000382</td>\n",
              "      <td>-0.035618</td>\n",
              "      <td>-0.005479</td>\n",
              "      <td>-0.055166</td>\n",
              "      <td>0.012009</td>\n",
              "      <td>-0.006308</td>\n",
              "      <td>0.021071</td>\n",
              "      <td>0.008394</td>\n",
              "    </tr>\n",
              "    <tr>\n",
              "      <th>destination_city_Chennai</th>\n",
              "      <td>0.060865</td>\n",
              "      <td>0.012331</td>\n",
              "      <td>0.061271</td>\n",
              "      <td>0.000456</td>\n",
              "      <td>0.018473</td>\n",
              "      <td>0.005760</td>\n",
              "      <td>-0.059581</td>\n",
              "      <td>0.018089</td>\n",
              "      <td>-0.002283</td>\n",
              "      <td>0.027766</td>\n",
              "      <td>...</td>\n",
              "      <td>-0.008515</td>\n",
              "      <td>0.021404</td>\n",
              "      <td>-0.008107</td>\n",
              "      <td>-0.002446</td>\n",
              "      <td>-0.008807</td>\n",
              "      <td>0.062267</td>\n",
              "      <td>-0.027034</td>\n",
              "      <td>-0.042047</td>\n",
              "      <td>0.053861</td>\n",
              "      <td>0.018494</td>\n",
              "    </tr>\n",
              "    <tr>\n",
              "      <th>destination_city_Delhi</th>\n",
              "      <td>-0.104565</td>\n",
              "      <td>-0.021200</td>\n",
              "      <td>-0.115412</td>\n",
              "      <td>0.006233</td>\n",
              "      <td>-0.052527</td>\n",
              "      <td>-0.017354</td>\n",
              "      <td>0.034305</td>\n",
              "      <td>-0.002593</td>\n",
              "      <td>0.040668</td>\n",
              "      <td>-0.038389</td>\n",
              "      <td>...</td>\n",
              "      <td>-0.004823</td>\n",
              "      <td>-0.021366</td>\n",
              "      <td>0.016018</td>\n",
              "      <td>0.022891</td>\n",
              "      <td>0.001646</td>\n",
              "      <td>-0.092525</td>\n",
              "      <td>-0.019831</td>\n",
              "      <td>0.145477</td>\n",
              "      <td>-0.034404</td>\n",
              "      <td>-0.026672</td>\n",
              "    </tr>\n",
              "    <tr>\n",
              "      <th>destination_city_Hyderabad</th>\n",
              "      <td>0.029073</td>\n",
              "      <td>0.007564</td>\n",
              "      <td>0.065762</td>\n",
              "      <td>-0.000018</td>\n",
              "      <td>-0.008292</td>\n",
              "      <td>0.010900</td>\n",
              "      <td>-0.025814</td>\n",
              "      <td>0.000244</td>\n",
              "      <td>-0.050272</td>\n",
              "      <td>0.035434</td>\n",
              "      <td>...</td>\n",
              "      <td>-0.013672</td>\n",
              "      <td>0.014388</td>\n",
              "      <td>-0.017226</td>\n",
              "      <td>0.001021</td>\n",
              "      <td>0.003360</td>\n",
              "      <td>0.070299</td>\n",
              "      <td>-0.014137</td>\n",
              "      <td>-0.065021</td>\n",
              "      <td>-0.033281</td>\n",
              "      <td>0.020541</td>\n",
              "    </tr>\n",
              "    <tr>\n",
              "      <th>destination_city_Kolkata</th>\n",
              "      <td>0.062722</td>\n",
              "      <td>-0.012987</td>\n",
              "      <td>0.061440</td>\n",
              "      <td>-0.003840</td>\n",
              "      <td>0.020956</td>\n",
              "      <td>-0.006201</td>\n",
              "      <td>-0.001016</td>\n",
              "      <td>0.033801</td>\n",
              "      <td>0.029817</td>\n",
              "      <td>-0.030555</td>\n",
              "      <td>...</td>\n",
              "      <td>-0.001992</td>\n",
              "      <td>0.022132</td>\n",
              "      <td>0.021064</td>\n",
              "      <td>-0.019568</td>\n",
              "      <td>-0.001539</td>\n",
              "      <td>-0.006801</td>\n",
              "      <td>0.102012</td>\n",
              "      <td>-0.045990</td>\n",
              "      <td>0.035956</td>\n",
              "      <td>-0.090034</td>\n",
              "    </tr>\n",
              "    <tr>\n",
              "      <th>destination_city_Mumbai</th>\n",
              "      <td>-0.046849</td>\n",
              "      <td>0.010573</td>\n",
              "      <td>-0.043900</td>\n",
              "      <td>-0.004337</td>\n",
              "      <td>0.010533</td>\n",
              "      <td>0.042490</td>\n",
              "      <td>0.026916</td>\n",
              "      <td>-0.031242</td>\n",
              "      <td>-0.000058</td>\n",
              "      <td>-0.016810</td>\n",
              "      <td>...</td>\n",
              "      <td>0.038851</td>\n",
              "      <td>-0.011769</td>\n",
              "      <td>-0.003327</td>\n",
              "      <td>-0.008805</td>\n",
              "      <td>0.001608</td>\n",
              "      <td>0.013002</td>\n",
              "      <td>-0.051664</td>\n",
              "      <td>-0.039240</td>\n",
              "      <td>-0.028310</td>\n",
              "      <td>0.067681</td>\n",
              "    </tr>\n",
              "    <tr>\n",
              "      <th>departure_time_Early_Morning</th>\n",
              "      <td>0.010145</td>\n",
              "      <td>-0.012120</td>\n",
              "      <td>-0.047092</td>\n",
              "      <td>0.003322</td>\n",
              "      <td>-0.012232</td>\n",
              "      <td>0.033703</td>\n",
              "      <td>0.028405</td>\n",
              "      <td>-0.032224</td>\n",
              "      <td>0.033931</td>\n",
              "      <td>-0.036206</td>\n",
              "      <td>...</td>\n",
              "      <td>1.000000</td>\n",
              "      <td>-0.281550</td>\n",
              "      <td>-0.035366</td>\n",
              "      <td>-0.298188</td>\n",
              "      <td>-0.233458</td>\n",
              "      <td>-0.008912</td>\n",
              "      <td>0.026221</td>\n",
              "      <td>-0.087950</td>\n",
              "      <td>-0.012150</td>\n",
              "      <td>-0.038415</td>\n",
              "    </tr>\n",
              "    <tr>\n",
              "      <th>departure_time_Evening</th>\n",
              "      <td>-0.041882</td>\n",
              "      <td>0.010789</td>\n",
              "      <td>0.104017</td>\n",
              "      <td>-0.010238</td>\n",
              "      <td>0.007946</td>\n",
              "      <td>0.019692</td>\n",
              "      <td>-0.003699</td>\n",
              "      <td>-0.020572</td>\n",
              "      <td>0.003626</td>\n",
              "      <td>-0.005037</td>\n",
              "      <td>...</td>\n",
              "      <td>-0.281550</td>\n",
              "      <td>1.000000</td>\n",
              "      <td>-0.034791</td>\n",
              "      <td>-0.293337</td>\n",
              "      <td>-0.229660</td>\n",
              "      <td>0.046954</td>\n",
              "      <td>-0.073355</td>\n",
              "      <td>0.099946</td>\n",
              "      <td>0.077360</td>\n",
              "      <td>-0.016334</td>\n",
              "    </tr>\n",
              "    <tr>\n",
              "      <th>departure_time_Late_Night</th>\n",
              "      <td>-0.035366</td>\n",
              "      <td>-0.029378</td>\n",
              "      <td>-0.045045</td>\n",
              "      <td>0.012000</td>\n",
              "      <td>-0.033768</td>\n",
              "      <td>-0.006956</td>\n",
              "      <td>0.008566</td>\n",
              "      <td>0.077697</td>\n",
              "      <td>-0.011630</td>\n",
              "      <td>-0.056948</td>\n",
              "      <td>...</td>\n",
              "      <td>-0.035366</td>\n",
              "      <td>-0.034791</td>\n",
              "      <td>1.000000</td>\n",
              "      <td>-0.036847</td>\n",
              "      <td>-0.028848</td>\n",
              "      <td>0.099503</td>\n",
              "      <td>-0.028446</td>\n",
              "      <td>0.018262</td>\n",
              "      <td>0.015192</td>\n",
              "      <td>-0.032136</td>\n",
              "    </tr>\n",
              "    <tr>\n",
              "      <th>departure_time_Morning</th>\n",
              "      <td>0.052600</td>\n",
              "      <td>0.002801</td>\n",
              "      <td>-0.071084</td>\n",
              "      <td>-0.003206</td>\n",
              "      <td>0.018199</td>\n",
              "      <td>-0.024826</td>\n",
              "      <td>-0.040410</td>\n",
              "      <td>0.028371</td>\n",
              "      <td>-0.028322</td>\n",
              "      <td>0.056992</td>\n",
              "      <td>...</td>\n",
              "      <td>-0.298188</td>\n",
              "      <td>-0.293337</td>\n",
              "      <td>-0.036847</td>\n",
              "      <td>1.000000</td>\n",
              "      <td>-0.243232</td>\n",
              "      <td>-0.070994</td>\n",
              "      <td>0.102113</td>\n",
              "      <td>-0.071652</td>\n",
              "      <td>-0.103299</td>\n",
              "      <td>0.033736</td>\n",
              "    </tr>\n",
              "    <tr>\n",
              "      <th>departure_time_Night</th>\n",
              "      <td>-0.058166</td>\n",
              "      <td>0.049516</td>\n",
              "      <td>0.115464</td>\n",
              "      <td>0.004004</td>\n",
              "      <td>0.041768</td>\n",
              "      <td>0.010730</td>\n",
              "      <td>-0.025366</td>\n",
              "      <td>-0.072394</td>\n",
              "      <td>0.005247</td>\n",
              "      <td>0.042486</td>\n",
              "      <td>...</td>\n",
              "      <td>-0.233458</td>\n",
              "      <td>-0.229660</td>\n",
              "      <td>-0.028848</td>\n",
              "      <td>-0.243232</td>\n",
              "      <td>1.000000</td>\n",
              "      <td>0.072332</td>\n",
              "      <td>-0.068714</td>\n",
              "      <td>0.031818</td>\n",
              "      <td>0.135017</td>\n",
              "      <td>-0.096555</td>\n",
              "    </tr>\n",
              "    <tr>\n",
              "      <th>arrival_time_Early_Morning</th>\n",
              "      <td>-0.018657</td>\n",
              "      <td>-0.041974</td>\n",
              "      <td>0.010950</td>\n",
              "      <td>0.020204</td>\n",
              "      <td>-0.060449</td>\n",
              "      <td>-0.025510</td>\n",
              "      <td>0.085654</td>\n",
              "      <td>0.013864</td>\n",
              "      <td>0.022834</td>\n",
              "      <td>-0.058766</td>\n",
              "      <td>...</td>\n",
              "      <td>-0.008912</td>\n",
              "      <td>0.046954</td>\n",
              "      <td>0.099503</td>\n",
              "      <td>-0.070994</td>\n",
              "      <td>0.072332</td>\n",
              "      <td>1.000000</td>\n",
              "      <td>-0.138265</td>\n",
              "      <td>-0.051471</td>\n",
              "      <td>-0.119613</td>\n",
              "      <td>-0.154137</td>\n",
              "    </tr>\n",
              "    <tr>\n",
              "      <th>arrival_time_Evening</th>\n",
              "      <td>0.070912</td>\n",
              "      <td>0.032833</td>\n",
              "      <td>0.033094</td>\n",
              "      <td>-0.013737</td>\n",
              "      <td>0.056408</td>\n",
              "      <td>-0.040356</td>\n",
              "      <td>-0.043881</td>\n",
              "      <td>0.007335</td>\n",
              "      <td>-0.042162</td>\n",
              "      <td>0.091317</td>\n",
              "      <td>...</td>\n",
              "      <td>0.026221</td>\n",
              "      <td>-0.073355</td>\n",
              "      <td>-0.028446</td>\n",
              "      <td>0.102113</td>\n",
              "      <td>-0.068714</td>\n",
              "      <td>-0.138265</td>\n",
              "      <td>1.000000</td>\n",
              "      <td>-0.131436</td>\n",
              "      <td>-0.305445</td>\n",
              "      <td>-0.393607</td>\n",
              "    </tr>\n",
              "    <tr>\n",
              "      <th>arrival_time_Late_Night</th>\n",
              "      <td>-0.018544</td>\n",
              "      <td>-0.086238</td>\n",
              "      <td>-0.107301</td>\n",
              "      <td>0.026500</td>\n",
              "      <td>-0.093602</td>\n",
              "      <td>-0.059937</td>\n",
              "      <td>0.100450</td>\n",
              "      <td>0.065025</td>\n",
              "      <td>0.003302</td>\n",
              "      <td>-0.135247</td>\n",
              "      <td>...</td>\n",
              "      <td>-0.087950</td>\n",
              "      <td>0.099946</td>\n",
              "      <td>0.018262</td>\n",
              "      <td>-0.071652</td>\n",
              "      <td>0.031818</td>\n",
              "      <td>-0.051471</td>\n",
              "      <td>-0.131436</td>\n",
              "      <td>1.000000</td>\n",
              "      <td>-0.113705</td>\n",
              "      <td>-0.146524</td>\n",
              "    </tr>\n",
              "    <tr>\n",
              "      <th>arrival_time_Morning</th>\n",
              "      <td>-0.045666</td>\n",
              "      <td>0.039745</td>\n",
              "      <td>0.122906</td>\n",
              "      <td>-0.003619</td>\n",
              "      <td>0.030379</td>\n",
              "      <td>0.066735</td>\n",
              "      <td>-0.063926</td>\n",
              "      <td>-0.082781</td>\n",
              "      <td>0.030808</td>\n",
              "      <td>0.030260</td>\n",
              "      <td>...</td>\n",
              "      <td>-0.012150</td>\n",
              "      <td>0.077360</td>\n",
              "      <td>0.015192</td>\n",
              "      <td>-0.103299</td>\n",
              "      <td>0.135017</td>\n",
              "      <td>-0.119613</td>\n",
              "      <td>-0.305445</td>\n",
              "      <td>-0.113705</td>\n",
              "      <td>1.000000</td>\n",
              "      <td>-0.340507</td>\n",
              "    </tr>\n",
              "    <tr>\n",
              "      <th>arrival_time_Night</th>\n",
              "      <td>0.017965</td>\n",
              "      <td>0.008035</td>\n",
              "      <td>-0.064458</td>\n",
              "      <td>-0.004593</td>\n",
              "      <td>0.020344</td>\n",
              "      <td>-0.001920</td>\n",
              "      <td>-0.000382</td>\n",
              "      <td>-0.009271</td>\n",
              "      <td>0.013312</td>\n",
              "      <td>0.024874</td>\n",
              "      <td>...</td>\n",
              "      <td>-0.038415</td>\n",
              "      <td>-0.016334</td>\n",
              "      <td>-0.032136</td>\n",
              "      <td>0.033736</td>\n",
              "      <td>-0.096555</td>\n",
              "      <td>-0.154137</td>\n",
              "      <td>-0.393607</td>\n",
              "      <td>-0.146524</td>\n",
              "      <td>-0.340507</td>\n",
              "      <td>1.000000</td>\n",
              "    </tr>\n",
              "  </tbody>\n",
              "</table>\n",
              "<p>30 rows × 30 columns</p>\n",
              "</div>\n",
              "      <button class=\"colab-df-convert\" onclick=\"convertToInteractive('df-66fa2907-b415-4c64-8934-cf6635554b2b')\"\n",
              "              title=\"Convert this dataframe to an interactive table.\"\n",
              "              style=\"display:none;\">\n",
              "        \n",
              "  <svg xmlns=\"http://www.w3.org/2000/svg\" height=\"24px\"viewBox=\"0 0 24 24\"\n",
              "       width=\"24px\">\n",
              "    <path d=\"M0 0h24v24H0V0z\" fill=\"none\"/>\n",
              "    <path d=\"M18.56 5.44l.94 2.06.94-2.06 2.06-.94-2.06-.94-.94-2.06-.94 2.06-2.06.94zm-11 1L8.5 8.5l.94-2.06 2.06-.94-2.06-.94L8.5 2.5l-.94 2.06-2.06.94zm10 10l.94 2.06.94-2.06 2.06-.94-2.06-.94-.94-2.06-.94 2.06-2.06.94z\"/><path d=\"M17.41 7.96l-1.37-1.37c-.4-.4-.92-.59-1.43-.59-.52 0-1.04.2-1.43.59L10.3 9.45l-7.72 7.72c-.78.78-.78 2.05 0 2.83L4 21.41c.39.39.9.59 1.41.59.51 0 1.02-.2 1.41-.59l7.78-7.78 2.81-2.81c.8-.78.8-2.07 0-2.86zM5.41 20L4 18.59l7.72-7.72 1.47 1.35L5.41 20z\"/>\n",
              "  </svg>\n",
              "      </button>\n",
              "      \n",
              "  <style>\n",
              "    .colab-df-container {\n",
              "      display:flex;\n",
              "      flex-wrap:wrap;\n",
              "      gap: 12px;\n",
              "    }\n",
              "\n",
              "    .colab-df-convert {\n",
              "      background-color: #E8F0FE;\n",
              "      border: none;\n",
              "      border-radius: 50%;\n",
              "      cursor: pointer;\n",
              "      display: none;\n",
              "      fill: #1967D2;\n",
              "      height: 32px;\n",
              "      padding: 0 0 0 0;\n",
              "      width: 32px;\n",
              "    }\n",
              "\n",
              "    .colab-df-convert:hover {\n",
              "      background-color: #E2EBFA;\n",
              "      box-shadow: 0px 1px 2px rgba(60, 64, 67, 0.3), 0px 1px 3px 1px rgba(60, 64, 67, 0.15);\n",
              "      fill: #174EA6;\n",
              "    }\n",
              "\n",
              "    [theme=dark] .colab-df-convert {\n",
              "      background-color: #3B4455;\n",
              "      fill: #D2E3FC;\n",
              "    }\n",
              "\n",
              "    [theme=dark] .colab-df-convert:hover {\n",
              "      background-color: #434B5C;\n",
              "      box-shadow: 0px 1px 3px 1px rgba(0, 0, 0, 0.15);\n",
              "      filter: drop-shadow(0px 1px 2px rgba(0, 0, 0, 0.3));\n",
              "      fill: #FFFFFF;\n",
              "    }\n",
              "  </style>\n",
              "\n",
              "      <script>\n",
              "        const buttonEl =\n",
              "          document.querySelector('#df-66fa2907-b415-4c64-8934-cf6635554b2b button.colab-df-convert');\n",
              "        buttonEl.style.display =\n",
              "          google.colab.kernel.accessAllowed ? 'block' : 'none';\n",
              "\n",
              "        async function convertToInteractive(key) {\n",
              "          const element = document.querySelector('#df-66fa2907-b415-4c64-8934-cf6635554b2b');\n",
              "          const dataTable =\n",
              "            await google.colab.kernel.invokeFunction('convertToInteractive',\n",
              "                                                     [key], {});\n",
              "          if (!dataTable) return;\n",
              "\n",
              "          const docLinkHtml = 'Like what you see? Visit the ' +\n",
              "            '<a target=\"_blank\" href=https://colab.research.google.com/notebooks/data_table.ipynb>data table notebook</a>'\n",
              "            + ' to learn more about interactive tables.';\n",
              "          element.innerHTML = '';\n",
              "          dataTable['output_type'] = 'display_data';\n",
              "          await google.colab.output.renderOutput(dataTable, element);\n",
              "          const docLink = document.createElement('div');\n",
              "          docLink.innerHTML = docLinkHtml;\n",
              "          element.appendChild(docLink);\n",
              "        }\n",
              "      </script>\n",
              "    </div>\n",
              "  </div>\n",
              "  "
            ]
          },
          "metadata": {},
          "execution_count": 67
        }
      ],
      "source": [
        "df_preprocessing.corr().T"
      ]
    },
    {
      "cell_type": "code",
      "execution_count": null,
      "id": "f1ce3354",
      "metadata": {
        "id": "f1ce3354",
        "outputId": "421cf33c-001c-4b48-8ef3-0ac94fb88da3",
        "colab": {
          "base_uri": "https://localhost:8080/",
          "height": 852
        }
      },
      "outputs": [
        {
          "output_type": "display_data",
          "data": {
            "text/plain": [
              "<Figure size 1440x1296 with 2 Axes>"
            ],
            "image/png": "[encoded data removed]"
          },
          "metadata": {
            "needs_background": "light"
          }
        }
      ],
      "source": [
        "mask = np.triu(np.ones_like(df_preprocessing.corr(),dtype=bool))\n",
        "plt.figure(figsize =(20,18))\n",
        "corrMatrix = df_preprocessing.corr()\n",
        "sns.heatmap(corrMatrix,mask=mask,annot=True)\n",
        "plt.title('Heatmap of Correlation Matrix',fontsize=16)\n",
        "plt.show()"
      ]
    },
    {
      "cell_type": "markdown",
      "id": "937a553a",
      "metadata": {
        "id": "937a553a"
      },
      "source": [
        "From the above  class and price have a greater correlation ie. they both are correlated and features depend on the class."
      ]
    },
    {
      "cell_type": "markdown",
      "id": "bd27346d",
      "metadata": {
        "id": "bd27346d"
      },
      "source": [
        "### 2. Predictive Analytics"
      ]
    },
    {
      "cell_type": "code",
      "execution_count": null,
      "id": "0c3a9ff5",
      "metadata": {
        "id": "0c3a9ff5"
      },
      "outputs": [],
      "source": [
        "df_bk=df.copy()\n"
      ]
    },
    {
      "cell_type": "code",
      "execution_count": null,
      "id": "94af9995",
      "metadata": {
        "id": "94af9995"
      },
      "outputs": [],
      "source": [
        "x=df.drop(['price'],axis=1)\n",
        "y=df['price']"
      ]
    },
    {
      "cell_type": "markdown",
      "id": "0bc13283",
      "metadata": {
        "id": "0bc13283"
      },
      "source": [
        "### Splitting the Data as Train and Test Sets"
      ]
    },
    {
      "cell_type": "code",
      "source": [
        "from sklearn.preprocessing import LabelEncoder\n",
        "le=LabelEncoder()\n",
        "for col in df.columns:\n",
        "    if df[col].dtype=='object':\n",
        "        df[col]=le.fit_transform(df[col])"
      ],
      "metadata": {
        "id": "4NxDa5azOPFF"
      },
      "id": "4NxDa5azOPFF",
      "execution_count": null,
      "outputs": []
    },
    {
      "cell_type": "code",
      "execution_count": null,
      "id": "ae943bf5",
      "metadata": {
        "id": "ae943bf5",
        "outputId": "397168dc-87f6-4af9-b791-d3724582f383",
        "colab": {
          "base_uri": "https://localhost:8080/"
        }
      },
      "outputs": [
        {
          "output_type": "execute_result",
          "data": {
            "text/plain": [
              "((210107, 10), (90046, 10), (210107,), (90046,))"
            ]
          },
          "metadata": {},
          "execution_count": 104
        }
      ],
      "source": [
        "from sklearn.model_selection import train_test_split\n",
        "x_train,x_test,y_train,y_test=train_test_split(x,y,test_size=0.30,random_state=42)\n",
        "x_train.shape,x_test.shape,y_train.shape,y_test.shape"
      ]
    },
    {
      "cell_type": "code",
      "source": [
        "from sklearn.preprocessing import MinMaxScaler\n",
        "mmscaler=MinMaxScaler(feature_range=(0,1))\n",
        "x_train=mmscaler.fit_transform(x_train)\n",
        "x_test=mmscaler.fit_transform(x_test)\n",
        "x_train=pd.DataFrame(x_train)\n",
        "x_test=pd.DataFrame(x_test)"
      ],
      "metadata": {
        "id": "L_HBSsKoONZA"
      },
      "id": "L_HBSsKoONZA",
      "execution_count": null,
      "outputs": []
    },
    {
      "cell_type": "markdown",
      "id": "99a85b49",
      "metadata": {
        "id": "99a85b49"
      },
      "source": [
        "Building Regression Models\n",
        "\n"
      ]
    },
    {
      "cell_type": "code",
      "execution_count": 117,
      "id": "b6766049",
      "metadata": {
        "id": "b6766049",
        "outputId": "ca2fde2b-3754-4c82-bfec-145ef2dcd104",
        "colab": {
          "base_uri": "https://localhost:8080/",
          "height": 130
        }
      },
      "outputs": [
        {
          "output_type": "execute_result",
          "data": {
            "text/plain": [
              "Empty DataFrame\n",
              "Columns: [Model Name, Mean_Absolute_Error_MAE, Root_Mean_Squared_Error_RMSE, Mean_Absolute_Percentage_Error_MAPE, Mean_Squared_Error_MSE, Root_Mean_Squared_Log_Error_RMSLE, R2_score]\n",
              "Index: []"
            ],
            "text/html": [
              "\n",
              "  <div id=\"df-79c938d0-c412-41e3-a75b-6ab9e4f426e5\">\n",
              "    <div class=\"colab-df-container\">\n",
              "      <div>\n",
              "<style scoped>\n",
              "    .dataframe tbody tr th:only-of-type {\n",
              "        vertical-align: middle;\n",
              "    }\n",
              "\n",
              "    .dataframe tbody tr th {\n",
              "        vertical-align: top;\n",
              "    }\n",
              "\n",
              "    .dataframe thead th {\n",
              "        text-align: right;\n",
              "    }\n",
              "</style>\n",
              "<table border=\"1\" class=\"dataframe\">\n",
              "  <thead>\n",
              "    <tr style=\"text-align: right;\">\n",
              "      <th></th>\n",
              "      <th>Model Name</th>\n",
              "      <th>Mean_Absolute_Error_MAE</th>\n",
              "      <th>Root_Mean_Squared_Error_RMSE</th>\n",
              "      <th>Mean_Absolute_Percentage_Error_MAPE</th>\n",
              "      <th>Mean_Squared_Error_MSE</th>\n",
              "      <th>Root_Mean_Squared_Log_Error_RMSLE</th>\n",
              "      <th>R2_score</th>\n",
              "    </tr>\n",
              "  </thead>\n",
              "  <tbody>\n",
              "  </tbody>\n",
              "</table>\n",
              "</div>\n",
              "      <button class=\"colab-df-convert\" onclick=\"convertToInteractive('df-79c938d0-c412-41e3-a75b-6ab9e4f426e5')\"\n",
              "              title=\"Convert this dataframe to an interactive table.\"\n",
              "              style=\"display:none;\">\n",
              "        \n",
              "  <svg xmlns=\"http://www.w3.org/2000/svg\" height=\"24px\"viewBox=\"0 0 24 24\"\n",
              "       width=\"24px\">\n",
              "    <path d=\"M0 0h24v24H0V0z\" fill=\"none\"/>\n",
              "    <path d=\"M18.56 5.44l.94 2.06.94-2.06 2.06-.94-2.06-.94-.94-2.06-.94 2.06-2.06.94zm-11 1L8.5 8.5l.94-2.06 2.06-.94-2.06-.94L8.5 2.5l-.94 2.06-2.06.94zm10 10l.94 2.06.94-2.06 2.06-.94-2.06-.94-.94-2.06-.94 2.06-2.06.94z\"/><path d=\"M17.41 7.96l-1.37-1.37c-.4-.4-.92-.59-1.43-.59-.52 0-1.04.2-1.43.59L10.3 9.45l-7.72 7.72c-.78.78-.78 2.05 0 2.83L4 21.41c.39.39.9.59 1.41.59.51 0 1.02-.2 1.41-.59l7.78-7.78 2.81-2.81c.8-.78.8-2.07 0-2.86zM5.41 20L4 18.59l7.72-7.72 1.47 1.35L5.41 20z\"/>\n",
              "  </svg>\n",
              "      </button>\n",
              "      \n",
              "  <style>\n",
              "    .colab-df-container {\n",
              "      display:flex;\n",
              "      flex-wrap:wrap;\n",
              "      gap: 12px;\n",
              "    }\n",
              "\n",
              "    .colab-df-convert {\n",
              "      background-color: #E8F0FE;\n",
              "      border: none;\n",
              "      border-radius: 50%;\n",
              "      cursor: pointer;\n",
              "      display: none;\n",
              "      fill: #1967D2;\n",
              "      height: 32px;\n",
              "      padding: 0 0 0 0;\n",
              "      width: 32px;\n",
              "    }\n",
              "\n",
              "    .colab-df-convert:hover {\n",
              "      background-color: #E2EBFA;\n",
              "      box-shadow: 0px 1px 2px rgba(60, 64, 67, 0.3), 0px 1px 3px 1px rgba(60, 64, 67, 0.15);\n",
              "      fill: #174EA6;\n",
              "    }\n",
              "\n",
              "    [theme=dark] .colab-df-convert {\n",
              "      background-color: #3B4455;\n",
              "      fill: #D2E3FC;\n",
              "    }\n",
              "\n",
              "    [theme=dark] .colab-df-convert:hover {\n",
              "      background-color: #434B5C;\n",
              "      box-shadow: 0px 1px 3px 1px rgba(0, 0, 0, 0.15);\n",
              "      filter: drop-shadow(0px 1px 2px rgba(0, 0, 0, 0.3));\n",
              "      fill: #FFFFFF;\n",
              "    }\n",
              "  </style>\n",
              "\n",
              "      <script>\n",
              "        const buttonEl =\n",
              "          document.querySelector('#df-79c938d0-c412-41e3-a75b-6ab9e4f426e5 button.colab-df-convert');\n",
              "        buttonEl.style.display =\n",
              "          google.colab.kernel.accessAllowed ? 'block' : 'none';\n",
              "\n",
              "        async function convertToInteractive(key) {\n",
              "          const element = document.querySelector('#df-79c938d0-c412-41e3-a75b-6ab9e4f426e5');\n",
              "          const dataTable =\n",
              "            await google.colab.kernel.invokeFunction('convertToInteractive',\n",
              "                                                     [key], {});\n",
              "          if (!dataTable) return;\n",
              "\n",
              "          const docLinkHtml = 'Like what you see? Visit the ' +\n",
              "            '<a target=\"_blank\" href=https://colab.research.google.com/notebooks/data_table.ipynb>data table notebook</a>'\n",
              "            + ' to learn more about interactive tables.';\n",
              "          element.innerHTML = '';\n",
              "          dataTable['output_type'] = 'display_data';\n",
              "          await google.colab.output.renderOutput(dataTable, element);\n",
              "          const docLink = document.createElement('div');\n",
              "          docLink.innerHTML = docLinkHtml;\n",
              "          element.appendChild(docLink);\n",
              "        }\n",
              "      </script>\n",
              "    </div>\n",
              "  </div>\n",
              "  "
            ]
          },
          "metadata": {},
          "execution_count": 117
        }
      ],
      "source": [
        "a={'Model Name':[], 'Mean_Absolute_Error_MAE':[] ,'Root_Mean_Squared_Error_RMSE':[] ,'Mean_Absolute_Percentage_Error_MAPE':[] ,'Mean_Squared_Error_MSE':[] ,'Root_Mean_Squared_Log_Error_RMSLE':[] ,'R2_score':[]}\n",
        "Results=pd.DataFrame(a)\n",
        "Results.head()"
      ]
    },
    {
      "cell_type": "code",
      "execution_count": 118,
      "id": "223f80f7",
      "metadata": {
        "id": "223f80f7",
        "outputId": "85d673c2-8332-458e-f6db-8b0e1f3463f9",
        "colab": {
          "base_uri": "https://localhost:8080/"
        }
      },
      "outputs": [
        {
          "output_type": "stream",
          "name": "stdout",
          "text": [
            "Model Name:  LinearRegression()\n",
            "Mean Absolute Error (MAE): 4539.344\n",
            "Mean Squared Error (MSE): 48167176.637\n",
            "Root Mean Squared Error (RMSE): 6940.258\n",
            "R2_score: 0.906411\n",
            "Root Mean Squared Log Error (RMSLE): 8.845\n",
            "Mean Absolute Percentage Error (MAPE): 42.49 %\n",
            "Adj R Squared:  0.906408\n",
            "------------------------------------------------------------------------------------------------------------\n"
          ]
        },
        {
          "output_type": "stream",
          "name": "stderr",
          "text": [
            "<ipython-input-118-397171005e31>:41: FutureWarning: The frame.append method is deprecated and will be removed from pandas in a future version. Use pandas.concat instead.\n",
            "  Results = Results.append(new_row, ignore_index=True)\n"
          ]
        }
      ],
      "source": [
        "from sklearn.linear_model import LinearRegression\n",
        "\n",
        "modellr = LinearRegression()\n",
        "\n",
        "MM = [modellr]\n",
        "\n",
        "for models in MM:\n",
        "    \n",
        "    models.fit(x_train, y_train)\n",
        "\n",
        "    y_pred = models.predict(x_test)\n",
        "    \n",
        "    print('Model Name: ', models)\n",
        "\n",
        "    from sklearn import metrics\n",
        "    \n",
        "    print('Mean Absolute Error (MAE):', round(metrics.mean_absolute_error(y_test, y_pred),3))  \n",
        "    print('Mean Squared Error (MSE):', round(metrics.mean_squared_error(y_test, y_pred),3))  \n",
        "    print('Root Mean Squared Error (RMSE):', round(np.sqrt(metrics.mean_squared_error(y_test, y_pred)),3))\n",
        "    print('R2_score:', round(metrics.r2_score(y_test, y_pred),6))\n",
        "    print('Root Mean Squared Log Error (RMSLE):', round(np.log(np.sqrt(metrics.mean_squared_error(y_test, y_pred))),3))\n",
        "    \n",
        "    def MAPE (y_test, y_pred):\n",
        "        y_test, y_pred = np.array(y_test), np.array(y_pred)\n",
        "        return np.mean(np.abs((y_test - y_pred) / y_test)) * 100\n",
        "    result = MAPE(y_test, y_pred)\n",
        "    print('Mean Absolute Percentage Error (MAPE):', round(result, 2), '%')\n",
        "    \n",
        "    r_squared = round(metrics.r2_score(y_test, y_pred),6)\n",
        "    adjusted_r_squared = round(1 - (1-r_squared)*(len(y)-1)/(len(y)-x.shape[1]-1),6)\n",
        "    print('Adj R Squared: ', adjusted_r_squared)\n",
        "    print('------------------------------------------------------------------------------------------------------------')\n",
        "    new_row = {'Model Name' : models,\n",
        "               'Mean_Absolute_Error_MAE' : metrics.mean_absolute_error(y_test, y_pred),\n",
        "               'Adj_R_Squared' : adjusted_r_squared,\n",
        "               'Root_Mean_Squared_Error_RMSE' : np.sqrt(metrics.mean_squared_error(y_test, y_pred)),\n",
        "               'Mean_Absolute_Percentage_Error_MAPE' : result,\n",
        "               'Mean_Squared_Error_MSE' : metrics.mean_squared_error(y_test, y_pred),\n",
        "               'Root_Mean_Squared_Log_Error_RMSLE': np.log(np.sqrt(metrics.mean_squared_error(y_test, y_pred))),\n",
        "               'R2_score' : metrics.r2_score(y_test, y_pred)}\n",
        "    Results = Results.append(new_row, ignore_index=True)"
      ]
    },
    {
      "cell_type": "code",
      "execution_count": 119,
      "id": "c55b72bd",
      "metadata": {
        "id": "c55b72bd",
        "outputId": "d54080f6-32aa-4b12-b7a8-4b3e8b843a6d",
        "colab": {
          "base_uri": "https://localhost:8080/",
          "height": 144
        }
      },
      "outputs": [
        {
          "output_type": "execute_result",
          "data": {
            "text/plain": [
              "           Model Name  Mean_Absolute_Error_MAE  Root_Mean_Squared_Error_RMSE  \\\n",
              "0  LinearRegression()               4539.34428                   6940.257678   \n",
              "\n",
              "   Mean_Absolute_Percentage_Error_MAPE  Mean_Squared_Error_MSE  \\\n",
              "0                            42.491869            4.816718e+07   \n",
              "\n",
              "   Root_Mean_Squared_Log_Error_RMSLE  R2_score  Adj_R_Squared  \n",
              "0                           8.845094  0.906411       0.906408  "
            ],
            "text/html": [
              "\n",
              "  <div id=\"df-352b6a3b-e265-4ec7-8b96-f0c4efbefe10\">\n",
              "    <div class=\"colab-df-container\">\n",
              "      <div>\n",
              "<style scoped>\n",
              "    .dataframe tbody tr th:only-of-type {\n",
              "        vertical-align: middle;\n",
              "    }\n",
              "\n",
              "    .dataframe tbody tr th {\n",
              "        vertical-align: top;\n",
              "    }\n",
              "\n",
              "    .dataframe thead th {\n",
              "        text-align: right;\n",
              "    }\n",
              "</style>\n",
              "<table border=\"1\" class=\"dataframe\">\n",
              "  <thead>\n",
              "    <tr style=\"text-align: right;\">\n",
              "      <th></th>\n",
              "      <th>Model Name</th>\n",
              "      <th>Mean_Absolute_Error_MAE</th>\n",
              "      <th>Root_Mean_Squared_Error_RMSE</th>\n",
              "      <th>Mean_Absolute_Percentage_Error_MAPE</th>\n",
              "      <th>Mean_Squared_Error_MSE</th>\n",
              "      <th>Root_Mean_Squared_Log_Error_RMSLE</th>\n",
              "      <th>R2_score</th>\n",
              "      <th>Adj_R_Squared</th>\n",
              "    </tr>\n",
              "  </thead>\n",
              "  <tbody>\n",
              "    <tr>\n",
              "      <th>0</th>\n",
              "      <td>LinearRegression()</td>\n",
              "      <td>4539.34428</td>\n",
              "      <td>6940.257678</td>\n",
              "      <td>42.491869</td>\n",
              "      <td>4.816718e+07</td>\n",
              "      <td>8.845094</td>\n",
              "      <td>0.906411</td>\n",
              "      <td>0.906408</td>\n",
              "    </tr>\n",
              "  </tbody>\n",
              "</table>\n",
              "</div>\n",
              "      <button class=\"colab-df-convert\" onclick=\"convertToInteractive('df-352b6a3b-e265-4ec7-8b96-f0c4efbefe10')\"\n",
              "              title=\"Convert this dataframe to an interactive table.\"\n",
              "              style=\"display:none;\">\n",
              "        \n",
              "  <svg xmlns=\"http://www.w3.org/2000/svg\" height=\"24px\"viewBox=\"0 0 24 24\"\n",
              "       width=\"24px\">\n",
              "    <path d=\"M0 0h24v24H0V0z\" fill=\"none\"/>\n",
              "    <path d=\"M18.56 5.44l.94 2.06.94-2.06 2.06-.94-2.06-.94-.94-2.06-.94 2.06-2.06.94zm-11 1L8.5 8.5l.94-2.06 2.06-.94-2.06-.94L8.5 2.5l-.94 2.06-2.06.94zm10 10l.94 2.06.94-2.06 2.06-.94-2.06-.94-.94-2.06-.94 2.06-2.06.94z\"/><path d=\"M17.41 7.96l-1.37-1.37c-.4-.4-.92-.59-1.43-.59-.52 0-1.04.2-1.43.59L10.3 9.45l-7.72 7.72c-.78.78-.78 2.05 0 2.83L4 21.41c.39.39.9.59 1.41.59.51 0 1.02-.2 1.41-.59l7.78-7.78 2.81-2.81c.8-.78.8-2.07 0-2.86zM5.41 20L4 18.59l7.72-7.72 1.47 1.35L5.41 20z\"/>\n",
              "  </svg>\n",
              "      </button>\n",
              "      \n",
              "  <style>\n",
              "    .colab-df-container {\n",
              "      display:flex;\n",
              "      flex-wrap:wrap;\n",
              "      gap: 12px;\n",
              "    }\n",
              "\n",
              "    .colab-df-convert {\n",
              "      background-color: #E8F0FE;\n",
              "      border: none;\n",
              "      border-radius: 50%;\n",
              "      cursor: pointer;\n",
              "      display: none;\n",
              "      fill: #1967D2;\n",
              "      height: 32px;\n",
              "      padding: 0 0 0 0;\n",
              "      width: 32px;\n",
              "    }\n",
              "\n",
              "    .colab-df-convert:hover {\n",
              "      background-color: #E2EBFA;\n",
              "      box-shadow: 0px 1px 2px rgba(60, 64, 67, 0.3), 0px 1px 3px 1px rgba(60, 64, 67, 0.15);\n",
              "      fill: #174EA6;\n",
              "    }\n",
              "\n",
              "    [theme=dark] .colab-df-convert {\n",
              "      background-color: #3B4455;\n",
              "      fill: #D2E3FC;\n",
              "    }\n",
              "\n",
              "    [theme=dark] .colab-df-convert:hover {\n",
              "      background-color: #434B5C;\n",
              "      box-shadow: 0px 1px 3px 1px rgba(0, 0, 0, 0.15);\n",
              "      filter: drop-shadow(0px 1px 2px rgba(0, 0, 0, 0.3));\n",
              "      fill: #FFFFFF;\n",
              "    }\n",
              "  </style>\n",
              "\n",
              "      <script>\n",
              "        const buttonEl =\n",
              "          document.querySelector('#df-352b6a3b-e265-4ec7-8b96-f0c4efbefe10 button.colab-df-convert');\n",
              "        buttonEl.style.display =\n",
              "          google.colab.kernel.accessAllowed ? 'block' : 'none';\n",
              "\n",
              "        async function convertToInteractive(key) {\n",
              "          const element = document.querySelector('#df-352b6a3b-e265-4ec7-8b96-f0c4efbefe10');\n",
              "          const dataTable =\n",
              "            await google.colab.kernel.invokeFunction('convertToInteractive',\n",
              "                                                     [key], {});\n",
              "          if (!dataTable) return;\n",
              "\n",
              "          const docLinkHtml = 'Like what you see? Visit the ' +\n",
              "            '<a target=\"_blank\" href=https://colab.research.google.com/notebooks/data_table.ipynb>data table notebook</a>'\n",
              "            + ' to learn more about interactive tables.';\n",
              "          element.innerHTML = '';\n",
              "          dataTable['output_type'] = 'display_data';\n",
              "          await google.colab.output.renderOutput(dataTable, element);\n",
              "          const docLink = document.createElement('div');\n",
              "          docLink.innerHTML = docLinkHtml;\n",
              "          element.appendChild(docLink);\n",
              "        }\n",
              "      </script>\n",
              "    </div>\n",
              "  </div>\n",
              "  "
            ]
          },
          "metadata": {},
          "execution_count": 119
        }
      ],
      "source": [
        "Results"
      ]
    },
    {
      "cell_type": "markdown",
      "source": [
        " Linear Regression has the  R squared score:0.906411 and adjusted R square value:0.906408\n",
        " "
      ],
      "metadata": {
        "id": "KDiOMJFCTpVk"
      },
      "id": "KDiOMJFCTpVk"
    },
    {
      "cell_type": "code",
      "source": [
        "plt.figure(figsize=(15,5))\n",
        "plt.scatter(y_test, y_pred)\n"
      ],
      "metadata": {
        "id": "-4t4EQlLQ07X",
        "colab": {
          "base_uri": "https://localhost:8080/",
          "height": 337
        },
        "outputId": "73cdef0d-fb53-476a-c39d-0fbe639894c7"
      },
      "id": "-4t4EQlLQ07X",
      "execution_count": 122,
      "outputs": [
        {
          "output_type": "execute_result",
          "data": {
            "text/plain": [
              "<matplotlib.collections.PathCollection at 0x7f780c9e6a90>"
            ]
          },
          "metadata": {},
          "execution_count": 122
        },
        {
          "output_type": "display_data",
          "data": {
            "text/plain": [
              "<Figure size 1080x360 with 1 Axes>"
            ],
            "image/png": "[encoded data removed]"
          },
          "metadata": {
            "needs_background": "light"
          }
        }
      ]
    },
    {
      "cell_type": "markdown",
      "source": [
        "\n"
      ],
      "metadata": {
        "id": "hesfGyzH_lMO"
      },
      "id": "hesfGyzH_lMO"
    }
  ],
  "metadata": {
    "kernelspec": {
      "display_name": "Python 3 (ipykernel)",
      "language": "python",
      "name": "python3"
    },
    "language_info": {
      "codemirror_mode": {
        "name": "ipython",
        "version": 3
      },
      "file_extension": ".py",
      "mimetype": "text/x-python",
      "name": "python",
      "nbconvert_exporter": "python",
      "pygments_lexer": "ipython3",
      "version": "3.9.7"
    },
    "colab": {
      "provenance": []
    }
  },
  "nbformat": 4,
  "nbformat_minor": 5
}